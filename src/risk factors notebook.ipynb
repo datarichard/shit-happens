{
 "cells": [
  {
   "cell_type": "markdown",
   "metadata": {},
   "source": [
    "# Risk Factors\n",
    "#### RMorris 14/05/2019\n",
    "The aim of this notebook is to characterise the STEMI cohort in the 3-month extract of the EMR. We will extract risk factors from primary sources in the EMR (e.g., medical notes, pathology results, observations, etc) and compare the results with secondary sources (e.g., ICD10 codes) and previous literature. For example, [Khan *et al* 2018](https://onlinelibrary.wiley.com/doi/full/10.5694/mja17.01109#mja2tb01109118-box-0001) provides contemporaneous data on an Australian STEMI cohort in the CONCORDANCE registry. And [Vernon *et al* 2017](https://journals.sagepub.com/doi/full/10.1177/2047487317720287) also provides characteristsics for a NSLHD STEMI cohort. \n",
    "\n",
    "The various risk factors have been recorded on [confluence](https://ctdshub.atlassian.net/wiki/spaces/HEAL/pages/767492185/Characteristics+and+Risk+Factors+in+the+EMR), and the current list is:  \n",
    "1. Diabetes (see other notebook)\n",
    "2. Smoking\n",
    "3. BMI\n",
    "4. Hypertension (high blood pressure)\n",
    "5. Hyperlipidemia (high cholesterol)\n",
    "6. Family history of ischemic heart disease (to be done)\n",
    "7. Past medical history of heart disease (to be done) \n",
    "\n",
    "Below is an example of the STEMI baseline characteristics according to ICD10 codes: \n",
    "\n",
    "|SPEED-EXTRACT  | Female | %Female | Male | %Male | Total | ICD10         | Female | %Female | Male | %Male | Total |\n",
    "|---------------|--------|---------|------|-------|-------|---------------|--------|---------|------|-------|-------|\n",
    "|Total number   |   26   |   25%   |  77  |  75%  |  103  |    \"           |   ...   |   ...   |  ...  |  ...  |  ...  |\n",
    "|Mean Age       |   77   |   ...   |  64  |  ...  |  67   | \"       |   ...   |   ...   |  ...  |  ...  |  ...   |\n",
    "|Diabetes       |   5    |   19%   |  8  |  10%  |  13%  | \"       |   5    |   19%   |  14  |  18%  |  18%  |\n",
    "|Hypertension   |   23    |   88%   |  66  |  86%  |  86%  | \"   |   8    |   31%   |  13  |  17%  |  20%  |\n",
    "|Hyperlipidemia |   19    |   73%    |   56  |   73%  |   73%  | \" |   1    |   4%    |   6  |   8%  |   7%  |\n",
    "|BMI            |\n",
    "|  *Healthy*    |\n",
    "|  *Overweight* |\n",
    "|  *Obese*      |\n",
    "|Smoking status |\n",
    "|  *Current*    |\n",
    "|  *Ex-smoker*  |\n",
    "|  *Never*      |\n",
    " \n",
    "\n",
    "#### Import data"
   ]
  },
  {
   "cell_type": "code",
   "execution_count": 1,
   "metadata": {},
   "outputs": [
    {
     "name": "stderr",
     "output_type": "stream",
     "text": [
      "Registered S3 methods overwritten by 'ggplot2':\n",
      "  method         from \n",
      "  [.quosures     rlang\n",
      "  c.quosures     rlang\n",
      "  print.quosures rlang\n",
      "Registered S3 method overwritten by 'rvest':\n",
      "  method            from\n",
      "  read_xml.response xml2\n",
      "── \u001b[1mAttaching packages\u001b[22m ─────────────────────────────────────── tidyverse 1.2.1 ──\n",
      "\u001b[32m✔\u001b[39m \u001b[34mggplot2\u001b[39m 3.1.1       \u001b[32m✔\u001b[39m \u001b[34mpurrr  \u001b[39m 0.3.2  \n",
      "\u001b[32m✔\u001b[39m \u001b[34mtibble \u001b[39m 2.1.1       \u001b[32m✔\u001b[39m \u001b[34mdplyr  \u001b[39m 0.8.0.\u001b[31m1\u001b[39m\n",
      "\u001b[32m✔\u001b[39m \u001b[34mtidyr  \u001b[39m 0.8.3       \u001b[32m✔\u001b[39m \u001b[34mstringr\u001b[39m 1.4.0  \n",
      "\u001b[32m✔\u001b[39m \u001b[34mreadr  \u001b[39m 1.3.1       \u001b[32m✔\u001b[39m \u001b[34mforcats\u001b[39m 0.4.0  \n",
      "── \u001b[1mConflicts\u001b[22m ────────────────────────────────────────── tidyverse_conflicts() ──\n",
      "\u001b[31m✖\u001b[39m \u001b[34mdplyr\u001b[39m::\u001b[32mfilter()\u001b[39m masks \u001b[34mstats\u001b[39m::filter()\n",
      "\u001b[31m✖\u001b[39m \u001b[34mdplyr\u001b[39m::\u001b[32mlag()\u001b[39m    masks \u001b[34mstats\u001b[39m::lag()\n",
      "\n",
      "Attaching package: ‘kableExtra’\n",
      "\n",
      "The following object is masked from ‘package:dplyr’:\n",
      "\n",
      "    group_rows\n",
      "\n"
     ]
    }
   ],
   "source": [
    "library(tidyverse)\n",
    "library(knitr)\n",
    "library(kableExtra)\n",
    "library(IRdisplay)\n",
    "source(\"../src/extract_numeric.R\")"
   ]
  },
  {
   "cell_type": "code",
   "execution_count": 2,
   "metadata": {},
   "outputs": [
    {
     "data": {
      "text/html": [],
      "text/latex": [],
      "text/markdown": [],
      "text/plain": [
       "<0 x 0 matrix>"
      ]
     },
     "metadata": {},
     "output_type": "display_data"
    }
   ],
   "source": [
    "# Our list of facilities in Northern Sydney Local Health District\n",
    "NSLHD <- c(\"Ryde\", \"Hornsby\", \"Royal North Shore\", \"Manly\", \"Mona Vale\")\n",
    "\n",
    "#### IMPORTING DATA ####\n",
    "# We will import and ensure all column names are lower case\n",
    "\n",
    "# import the STEMI episodes from the cardiology journey data\n",
    "read_rds('../data/encounter_journey_3m_trop_acs.rds') %>%\n",
    "  rename_all(tolower) %>%\n",
    "  rename(Status = icd10stemi.status, Gender = gender, Age = age) %>%\n",
    "  filter(Status %in% c(\"NSTEMI\", \"STEMI\")) %>%\n",
    "  mutate() %>%\n",
    "  group_by(journey_key) %>%\n",
    "  mutate(\n",
    "    # A flag to select journeys treated in NSLHD facilities:\n",
    "    nslhd = any(facility %in% NSLHD),\n",
    "    # A flag to select journeys that were not waitlisted:\n",
    "    waitlisted = any(enclass == \"WaitListed\"),\n",
    "    # Remove APAC because it is not a hospital facility:\n",
    "    facility = fct_recode(facility, NULL = \"APAC\"),\n",
    "  ) %>%\n",
    "  ungroup() %>%\n",
    "  mutate(\n",
    "    Facility = as.character(facility), # because factors are shit\n",
    "    Status = ordered(Status, levels = c(\"STEMI\", \"NSTEMI\")) # sometimes ok\n",
    "  ) %>% \n",
    "  filter(!waitlisted, nslhd) %>%\n",
    "  select(-waitlisted, -nslhd, -facility) -> nslhd_enctrs\n",
    "\n",
    "# import the patient history\n",
    "patient_history.rds <- read_rds('../data/patient_social_history.rds') %>%\n",
    "  as_tibble() %>%\n",
    "  rename_all(tolower)\n",
    "\n",
    "# import the ED notes\n",
    "notes_ED.rds <- read_rds('../data/notes_ED_3m.rds') %>%\n",
    "  as_tibble() %>%\n",
    "  rename_all(tolower)\n",
    "\n",
    "# import the medications table\n",
    "meds_spread.rds <- read_rds('../data/meds_spread.rds')\n",
    "  as_tibble() %>%\n",
    "  rename_all(tolower)\n",
    "\n",
    "# import the form data\n",
    "form_data.rds <- read_rds('../data/form_data.rds') %>%\n",
    "  as_tibble() %>%\n",
    "  rename_all(tolower)\n",
    "\n",
    "# import the pathology results data\n",
    "pathology_result.rds <- read_rds('../data/pathology.rds') %>%\n",
    "  as_tibble() %>%\n",
    "  rename_all(tolower)\n",
    "\n",
    "# import the ICD10 codes\n",
    "diagnosis_icd10.rds <- read_rds('../data/diagnosis_icd10.rds') %>%\n",
    "  rename_all(tolower) %>% \n",
    "  select(encntr_key, d_present_on_admit_disp, display_identifier, source_string)"
   ]
  },
  {
   "cell_type": "markdown",
   "metadata": {},
   "source": [
    "## Gender"
   ]
  },
  {
   "cell_type": "code",
   "execution_count": 3,
   "metadata": {},
   "outputs": [
    {
     "data": {
      "text/html": [
       "<table>\n",
       " <thead>\n",
       "  <tr>\n",
       "   <th style=\"text-align:left;\"> STEMI </th>\n",
       "   <th style=\"text-align:right;\"> Female </th>\n",
       "   <th style=\"text-align:right;\"> %Female </th>\n",
       "   <th style=\"text-align:right;\"> Male </th>\n",
       "   <th style=\"text-align:right;\"> %Male </th>\n",
       "   <th style=\"text-align:right;\"> Total </th>\n",
       "  </tr>\n",
       " </thead>\n",
       "<tbody>\n",
       "  <tr>\n",
       "   <td style=\"text-align:left;\"> Total number </td>\n",
       "   <td style=\"text-align:right;\"> 26 </td>\n",
       "   <td style=\"text-align:right;\"> 25 </td>\n",
       "   <td style=\"text-align:right;\"> 77 </td>\n",
       "   <td style=\"text-align:right;\"> 75 </td>\n",
       "   <td style=\"text-align:right;\"> 103 </td>\n",
       "  </tr>\n",
       "</tbody>\n",
       "</table>"
      ]
     },
     "metadata": {},
     "output_type": "display_data"
    }
   ],
   "source": [
    "nslhd_enctrs %>%\n",
    "  filter(Status == \"STEMI\") %>%\n",
    "  select(journey_key, Gender, Age) %>%\n",
    "  distinct() %>%\n",
    "  group_by(Gender) %>%\n",
    "  summarise(\n",
    "    `Total number` = n(),\n",
    "  ) %>%\n",
    "  bind_rows(summarise_all(\n",
    "    ., list(~if(is.numeric(.)) sum(.) else \"Total\"))) %>%\n",
    "  column_to_rownames(\"Gender\") %>%\n",
    "  t() %>%\n",
    "  as.data.frame() %>%\n",
    "  rownames_to_column(\"STEMI\") %>%\n",
    "  mutate(\n",
    "    `%Female` = round(Female / Total*100),\n",
    "    `%Male` = round(Male / Total*100)\n",
    "  ) %>%\n",
    "  select(1, Female, `%Female`, Male, `%Male`, Total) %>%\n",
    "  kable() %>% as.character() %>% display_html()"
   ]
  },
  {
   "cell_type": "markdown",
   "metadata": {},
   "source": [
    "The STEMI cohort is dominated by males (75%), which is similar to CONCORDANCE and Vernon *et al*. "
   ]
  },
  {
   "cell_type": "markdown",
   "metadata": {},
   "source": [
    "## Age"
   ]
  },
  {
   "cell_type": "code",
   "execution_count": 4,
   "metadata": {},
   "outputs": [
    {
     "data": {
      "text/html": [
       "<table>\n",
       " <thead>\n",
       "  <tr>\n",
       "   <th style=\"text-align:left;\"> STEMI </th>\n",
       "   <th style=\"text-align:right;\"> Female </th>\n",
       "   <th style=\"text-align:right;\"> Male </th>\n",
       "   <th style=\"text-align:right;\"> Total </th>\n",
       "  </tr>\n",
       " </thead>\n",
       "<tbody>\n",
       "  <tr>\n",
       "   <td style=\"text-align:left;\"> Mean Age </td>\n",
       "   <td style=\"text-align:right;\"> 77.3 </td>\n",
       "   <td style=\"text-align:right;\"> 64.2 </td>\n",
       "   <td style=\"text-align:right;\"> 67.5 </td>\n",
       "  </tr>\n",
       "</tbody>\n",
       "</table>"
      ]
     },
     "metadata": {},
     "output_type": "display_data"
    }
   ],
   "source": [
    "nslhd_enctrs %>%\n",
    "  filter(Status == \"STEMI\") %>%\n",
    "  select(journey_key, Gender, Age) %>%\n",
    "  distinct() %>%\n",
    "  add_row(Gender = \"Total\", Age = mean(.$Age, na.rm = TRUE)) %>%\n",
    "  group_by(Gender) %>%\n",
    "  summarise(\n",
    "    `Mean Age` = round(mean(Age, na.rm = TRUE), 1),\n",
    "  ) %>%\n",
    "  column_to_rownames(\"Gender\") %>%\n",
    "  t() %>%\n",
    "  as.data.frame() %>%\n",
    "  rownames_to_column(\"STEMI\") %>%\n",
    "  kable() %>% as.character() %>% display_html()"
   ]
  },
  {
   "cell_type": "markdown",
   "metadata": {},
   "source": [
    "Mean age of STEMI is 67.5 year old, which is slightly higher than CONCORDANCE and Vernon *et al* where the mean age was ~64 years old."
   ]
  },
  {
   "cell_type": "markdown",
   "metadata": {},
   "source": [
    "## Diabetes\n",
    "Diabetes is defined as a HbA1c test result greater than 6.5 percent (see pathology table). However patients with well-managed diabetes might not be revealed by this definition.  \n",
    "\n",
    "We will need to check:\n",
    "1. ICD10 codes (`E11.9|E11.72|E11.22|E11.29`)\n",
    "2. Prior medical history (ED notes)\n",
    "3. Progress notes (for new cases)\n",
    "4. Medications for insulin and antidiabetics\n",
    "5. HbA1c test results (pathology)"
   ]
  },
  {
   "cell_type": "markdown",
   "metadata": {},
   "source": [
    "### 1. ICD10 codes"
   ]
  },
  {
   "cell_type": "code",
   "execution_count": 5,
   "metadata": {},
   "outputs": [],
   "source": [
    "join_icd10_diabetes <- function(stemi_input, icd10_input) {\n",
    "    \n",
    "  diagnosis <- icd10_input %>%\n",
    "    select(encntr_key, d_present_on_admit_disp, \n",
    "           display_identifier, source_string)\n",
    "    \n",
    "    \n",
    "  stemi_input %>%\n",
    "    left_join(diagnosis, by = \"encntr_key\") %>% \n",
    "    group_by(journey_key) %>%\n",
    "    mutate(\n",
    "    # Define diabetes pre-existing or new conditions\n",
    "    diabetes_icd10 = case_when(\n",
    "      any(str_detect(source_string, \"diabetes mellitus\") & \n",
    "            d_present_on_admit_disp == \"[1] Onset During Episode\") ~ \"New\",\n",
    "      any(str_detect(source_string, \"diabetes mellitus\"))          ~ \"Present\",\n",
    "      all(is.na(source_string))                                    ~ \"Missing\",\n",
    "      TRUE                                                         ~ \"Absent\"\n",
    "      )\n",
    "    ) %>% \n",
    "    select(-d_present_on_admit_disp, -display_identifier, -source_string) %>%\n",
    "    distinct() %>%\n",
    "    ungroup() -> out_df\n",
    "\n",
    "  return(out_df)    \n",
    "}\n",
    "\n",
    "nslhd_enctrs %>%\n",
    "  join_icd10_diabetes(diagnosis_icd10.rds) %>%\n",
    "  select(Status, Gender, journey_key, diabetes_icd10) %>%\n",
    "  distinct() -> nslhd_journeys_diabetes_icd10"
   ]
  },
  {
   "cell_type": "code",
   "execution_count": 28,
   "metadata": {},
   "outputs": [
    {
     "data": {
      "text/html": [
       "<table>\n",
       "<caption>Source: ICD10</caption>\n",
       " <thead>\n",
       "  <tr>\n",
       "   <th style=\"text-align:left;\"> Diabetes </th>\n",
       "   <th style=\"text-align:right;\"> Present </th>\n",
       "   <th style=\"text-align:right;\"> Absent </th>\n",
       "   <th style=\"text-align:right;\"> New </th>\n",
       "   <th style=\"text-align:right;\"> Total </th>\n",
       "   <th style=\"text-align:right;\"> %Missing </th>\n",
       "   <th style=\"text-align:right;\"> %Present </th>\n",
       "   <th style=\"text-align:right;\"> %Error </th>\n",
       "  </tr>\n",
       " </thead>\n",
       "<tbody>\n",
       "  <tr>\n",
       "   <td style=\"text-align:left;\"> Female </td>\n",
       "   <td style=\"text-align:right;\"> 5 </td>\n",
       "   <td style=\"text-align:right;\"> 20 </td>\n",
       "   <td style=\"text-align:right;\"> 1 </td>\n",
       "   <td style=\"text-align:right;\"> 26 </td>\n",
       "   <td style=\"text-align:right;\"> 0 </td>\n",
       "   <td style=\"text-align:right;\"> 19.2 </td>\n",
       "   <td style=\"text-align:right;\"> 7.7 </td>\n",
       "  </tr>\n",
       "  <tr>\n",
       "   <td style=\"text-align:left;\"> Male </td>\n",
       "   <td style=\"text-align:right;\"> 14 </td>\n",
       "   <td style=\"text-align:right;\"> 63 </td>\n",
       "   <td style=\"text-align:right;\"> 0 </td>\n",
       "   <td style=\"text-align:right;\"> 77 </td>\n",
       "   <td style=\"text-align:right;\"> 0 </td>\n",
       "   <td style=\"text-align:right;\"> 18.2 </td>\n",
       "   <td style=\"text-align:right;\"> 4.4 </td>\n",
       "  </tr>\n",
       "  <tr>\n",
       "   <td style=\"text-align:left;\"> Total </td>\n",
       "   <td style=\"text-align:right;\"> 19 </td>\n",
       "   <td style=\"text-align:right;\"> 83 </td>\n",
       "   <td style=\"text-align:right;\"> 1 </td>\n",
       "   <td style=\"text-align:right;\"> 103 </td>\n",
       "   <td style=\"text-align:right;\"> 0 </td>\n",
       "   <td style=\"text-align:right;\"> 18.4 </td>\n",
       "   <td style=\"text-align:right;\"> 3.8 </td>\n",
       "  </tr>\n",
       "</tbody>\n",
       "</table>"
      ]
     },
     "metadata": {},
     "output_type": "display_data"
    }
   ],
   "source": [
    "nslhd_journeys_diabetes_icd10 %>%\n",
    "  filter(Status == \"STEMI\") %>%\n",
    "  mutate(diabetes = fct_relevel(diabetes_icd10, \"Present\")) %>%\n",
    "  count(Gender, diabetes) %>%\n",
    "  spread(diabetes, n, fill = 0) %>% \n",
    "  bind_rows(summarise_all(., list(~if(is.numeric(.)) sum(.) else \"Total\"))) %>%\n",
    "  mutate(\n",
    "    Total = rowSums(select_if(., is.numeric)),\n",
    "    `%Missing` = Total - (Present + Absent + New),\n",
    "    `%Present` = round(Present/Total*100, 1),\n",
    "    `%Error` = round(sqrt(`%Present`*(100-`%Present`) / (Present + Absent + New)),1)\n",
    "  ) %>%\n",
    "  rename(Diabetes = Gender) %>%\n",
    "  kable(caption = \"Source: ICD10\") %>% \n",
    "  as.character() %>% display_html()"
   ]
  },
  {
   "cell_type": "markdown",
   "metadata": {},
   "source": [
    "*Diabetes mellitus* prevalence is slighty less than **20 percent** in this STEMI cohort, according to the **ICD10 codes**. This is similar to CONCORDANCE but less than half of Vernon *et al* (46 percent). Vernon *et al* determined presence of risk factors by medical notes, which we also examine here."
   ]
  },
  {
   "cell_type": "markdown",
   "metadata": {},
   "source": [
    "### 2. ED notes"
   ]
  },
  {
   "cell_type": "code",
   "execution_count": 8,
   "metadata": {},
   "outputs": [],
   "source": [
    "join_notes_diabetes <- function(stemi_input, notes_input) {\n",
    "    \n",
    "  notes_input %>%\n",
    "    select(encntr_key, note_value) %>%\n",
    "    as_tibble() -> notes_table\n",
    "    \n",
    "  source(\"../src/CLACK/R/CLACK.R\")\n",
    "\n",
    "  stemi_input %>%\n",
    "    left_join(notes_table, by = \"encntr_key\") %>%\n",
    "    group_by(journey_key) %>%\n",
    "    mutate(noted = any(!is.na(note_value))) %>%\n",
    "    ungroup() %>%\n",
    "    Classify_Text(\"note_value\", \"../src/diabetes.json\") %>%\n",
    "    group_by(journey_key) %>%\n",
    "    mutate(\n",
    "      diabetes_noted = case_when(\n",
    "        any(CLASSIFICATION == \"high\") ~ \"Present\",\n",
    "        all(!noted)                   ~ \"Missing\",\n",
    "        TRUE                          ~ \"Absent\"\n",
    "        )\n",
    "      ) %>%\n",
    "    select(\n",
    "      -noted, -note_value, -CLASSIFICATION, -CLASSIFICATION_REASON\n",
    "      ) %>%\n",
    "    ungroup() %>%\n",
    "    distinct() -> out_df\n",
    "    \n",
    "  return(out_df)\n",
    "}\n",
    "\n",
    "nslhd_enctrs %>%\n",
    "  join_notes_diabetes(notes_ED.rds) %>%\n",
    "  select(Status, Gender, journey_key, diabetes_noted) %>%\n",
    "  distinct() -> nslhd_journeys_diabetes_noted"
   ]
  },
  {
   "cell_type": "code",
   "execution_count": 27,
   "metadata": {},
   "outputs": [
    {
     "data": {
      "text/html": [
       "<table>\n",
       "<caption>Source: ED notes</caption>\n",
       " <thead>\n",
       "  <tr>\n",
       "   <th style=\"text-align:left;\"> Diabetes </th>\n",
       "   <th style=\"text-align:right;\"> Present </th>\n",
       "   <th style=\"text-align:right;\"> Absent </th>\n",
       "   <th style=\"text-align:right;\"> Missing </th>\n",
       "   <th style=\"text-align:right;\"> Total </th>\n",
       "   <th style=\"text-align:right;\"> %Missing </th>\n",
       "   <th style=\"text-align:right;\"> %Present </th>\n",
       "   <th style=\"text-align:right;\"> %Error </th>\n",
       "  </tr>\n",
       " </thead>\n",
       "<tbody>\n",
       "  <tr>\n",
       "   <td style=\"text-align:left;\"> Female </td>\n",
       "   <td style=\"text-align:right;\"> 2 </td>\n",
       "   <td style=\"text-align:right;\"> 14 </td>\n",
       "   <td style=\"text-align:right;\"> 10 </td>\n",
       "   <td style=\"text-align:right;\"> 26 </td>\n",
       "   <td style=\"text-align:right;\"> 38.5 </td>\n",
       "   <td style=\"text-align:right;\"> 12.5 </td>\n",
       "   <td style=\"text-align:right;\"> 8.3 </td>\n",
       "  </tr>\n",
       "  <tr>\n",
       "   <td style=\"text-align:left;\"> Male </td>\n",
       "   <td style=\"text-align:right;\"> 5 </td>\n",
       "   <td style=\"text-align:right;\"> 44 </td>\n",
       "   <td style=\"text-align:right;\"> 28 </td>\n",
       "   <td style=\"text-align:right;\"> 77 </td>\n",
       "   <td style=\"text-align:right;\"> 36.4 </td>\n",
       "   <td style=\"text-align:right;\"> 10.2 </td>\n",
       "   <td style=\"text-align:right;\"> 4.3 </td>\n",
       "  </tr>\n",
       "  <tr>\n",
       "   <td style=\"text-align:left;\"> Total </td>\n",
       "   <td style=\"text-align:right;\"> 7 </td>\n",
       "   <td style=\"text-align:right;\"> 58 </td>\n",
       "   <td style=\"text-align:right;\"> 38 </td>\n",
       "   <td style=\"text-align:right;\"> 103 </td>\n",
       "   <td style=\"text-align:right;\"> 36.9 </td>\n",
       "   <td style=\"text-align:right;\"> 10.8 </td>\n",
       "   <td style=\"text-align:right;\"> 3.8 </td>\n",
       "  </tr>\n",
       "</tbody>\n",
       "</table>"
      ]
     },
     "metadata": {},
     "output_type": "display_data"
    }
   ],
   "source": [
    "nslhd_journeys_diabetes_noted %>%\n",
    "  filter(Status == \"STEMI\") %>%\n",
    "  mutate(diabetes = fct_relevel(diabetes_noted, \"Present\")) %>%\n",
    "  count(Gender, diabetes) %>%\n",
    "  spread(diabetes, n) %>%\n",
    "  bind_rows(summarise_all(., list(~if(is.numeric(.)) sum(.) else \"Total\"))) %>%\n",
    "  mutate(\n",
    "    Total = rowSums(select_if(., is.numeric)),\n",
    "    `%Missing` = round(Missing/Total*100, 1),\n",
    "    `%Present` = round(Present/(Present + Absent)*100, 1),\n",
    "    `%Error` = round(sqrt(`%Present`*(100-`%Present`) / (Present + Absent)),1)\n",
    "  ) %>%\n",
    "  rename(Diabetes = Gender) %>%\n",
    "  kable(caption = \"Source: ED notes\") %>% \n",
    "  as.character() %>% display_html()"
   ]
  },
  {
   "cell_type": "markdown",
   "metadata": {},
   "source": [
    "The prevalence of *diabetes mellitus* in **ED notes** is **~11 percent**; approximately half of that recorded in ICD10 and CONCORDANCE (~20%) and less than a quarter of Vernon *et al* (46%)"
   ]
  },
  {
   "cell_type": "markdown",
   "metadata": {},
   "source": [
    "### 3. Progress notes\n",
    "To be done"
   ]
  },
  {
   "cell_type": "markdown",
   "metadata": {},
   "source": [
    "### 4. Medicines "
   ]
  },
  {
   "cell_type": "code",
   "execution_count": 18,
   "metadata": {},
   "outputs": [],
   "source": [
    "join_meds_diabetes <- function(stemi_input, medicine_input) {\n",
    "    \n",
    "  source(\"../src/journeyr.r\")\n",
    "   \n",
    "  stemi_input %>%\n",
    "    mark_journeys_with_discharge_meds(medicine_input) %>% # from journeyr.r\n",
    "    mutate(has_meds = final_groups != \"NULL\") %>%         # from journeyr.r\n",
    "    select(journey_key, has_meds) -> episodes_with_medicines\n",
    "    \n",
    "  medicine_input %>%\n",
    "    filter(purrr::map_lgl(groups, ~any(stringr::str_detect(.x, \"Insulin|diabetic\")))) %>%\n",
    "    select(encntr_key, medication_name) -> diabetes_medicines\n",
    "    \n",
    "  stemi_input %>%\n",
    "    left_join(diabetes_medicines, by = c(\"encntr_key\")) %>%\n",
    "    left_join(episodes_with_medicines, by = c(\"journey_key\")) %>%\n",
    "    group_by(journey_key) %>%\n",
    "    mutate(\n",
    "      diabetes_meds = case_when(\n",
    "        any(!is.na(medication_name)) ~ \"Present\",\n",
    "        !has_meds ~ \"Missing\",\n",
    "        TRUE ~ \"Absent\"\n",
    "        )\n",
    "      ) %>%\n",
    "    select(-medication_name, -has_meds) %>%\n",
    "    ungroup() %>%\n",
    "    distinct() -> out_df\n",
    "    \n",
    "  return(out_df)\n",
    "}\n",
    "\n",
    "nslhd_enctrs %>%\n",
    "  join_meds_diabetes(meds_spread.rds) %>%\n",
    "  select(Status, Gender, journey_key, diabetes_meds) %>%\n",
    "  distinct() -> nslhd_journeys_diabetes_meds"
   ]
  },
  {
   "cell_type": "code",
   "execution_count": 29,
   "metadata": {},
   "outputs": [
    {
     "data": {
      "text/html": [
       "<table>\n",
       "<caption>Source: medications</caption>\n",
       " <thead>\n",
       "  <tr>\n",
       "   <th style=\"text-align:left;\"> Diabetes </th>\n",
       "   <th style=\"text-align:right;\"> Present </th>\n",
       "   <th style=\"text-align:right;\"> Absent </th>\n",
       "   <th style=\"text-align:right;\"> Total </th>\n",
       "   <th style=\"text-align:right;\"> %Missing </th>\n",
       "   <th style=\"text-align:right;\"> %Present </th>\n",
       "   <th style=\"text-align:right;\"> %Error </th>\n",
       "  </tr>\n",
       " </thead>\n",
       "<tbody>\n",
       "  <tr>\n",
       "   <td style=\"text-align:left;\"> Female </td>\n",
       "   <td style=\"text-align:right;\"> 3 </td>\n",
       "   <td style=\"text-align:right;\"> 23 </td>\n",
       "   <td style=\"text-align:right;\"> 26 </td>\n",
       "   <td style=\"text-align:right;\"> 0 </td>\n",
       "   <td style=\"text-align:right;\"> 11.5 </td>\n",
       "   <td style=\"text-align:right;\"> 6.3 </td>\n",
       "  </tr>\n",
       "  <tr>\n",
       "   <td style=\"text-align:left;\"> Male </td>\n",
       "   <td style=\"text-align:right;\"> 4 </td>\n",
       "   <td style=\"text-align:right;\"> 73 </td>\n",
       "   <td style=\"text-align:right;\"> 77 </td>\n",
       "   <td style=\"text-align:right;\"> 0 </td>\n",
       "   <td style=\"text-align:right;\"> 5.2 </td>\n",
       "   <td style=\"text-align:right;\"> 2.5 </td>\n",
       "  </tr>\n",
       "  <tr>\n",
       "   <td style=\"text-align:left;\"> Total </td>\n",
       "   <td style=\"text-align:right;\"> 7 </td>\n",
       "   <td style=\"text-align:right;\"> 96 </td>\n",
       "   <td style=\"text-align:right;\"> 103 </td>\n",
       "   <td style=\"text-align:right;\"> 0 </td>\n",
       "   <td style=\"text-align:right;\"> 6.8 </td>\n",
       "   <td style=\"text-align:right;\"> 2.5 </td>\n",
       "  </tr>\n",
       "</tbody>\n",
       "</table>"
      ]
     },
     "metadata": {},
     "output_type": "display_data"
    }
   ],
   "source": [
    "nslhd_journeys_diabetes_meds %>%\n",
    "  filter(Status == \"STEMI\") %>%\n",
    "  mutate(diabetes = fct_relevel(diabetes_meds, \"Present\")) %>%\n",
    "  count(Gender, diabetes) %>%\n",
    "  spread(diabetes, n) %>% \n",
    "  bind_rows(summarise_all(., funs(if(is.numeric(.)) sum(.) else \"Total\"))) %>%\n",
    "  mutate(\n",
    "    Total = rowSums(select_if(., is.numeric)),\n",
    "    `%Missing` = Total - (Present + Absent),\n",
    "    `%Present` = round(Present/(Present + Absent)*100, 1),\n",
    "    `%Error` = round(sqrt(`%Present`*(100-`%Present`) / (Present + Absent)),1)\n",
    "  ) %>%\n",
    "  rename(Diabetes = Gender) %>%\n",
    "  kable(caption = \"Source: Medications\") %>% \n",
    "  as.character() %>% display_html()"
   ]
  },
  {
   "cell_type": "markdown",
   "metadata": {},
   "source": [
    "The prevalence of *diabetes mellitus* in **medications** is **~7 percent**; which is much less than CONCORDANCE (20%), or Vernon *et al* (46%)"
   ]
  },
  {
   "cell_type": "markdown",
   "metadata": {},
   "source": [
    "### 5. HbA1c test"
   ]
  },
  {
   "cell_type": "code",
   "execution_count": 30,
   "metadata": {},
   "outputs": [
    {
     "name": "stderr",
     "output_type": "stream",
     "text": [
      "Warning message:\n",
      "“Factor `result_display` contains implicit NA, consider using `forcats::fct_explicit_na`”Warning message:\n",
      "“Factor `result_display` contains implicit NA, consider using `forcats::fct_explicit_na`”"
     ]
    }
   ],
   "source": [
    "join_pathology_hba1c <- function(stemi_input, pathology_input) {  \n",
    "\n",
    "    #   Find the HbA1c and glucose results in the pathology data, which are not \"Error\"\n",
    "    pathology_input %>%\n",
    "      # Exclude test errors\n",
    "      filter(result_tag != \"Error\") %>%\n",
    "      # Select only the HbA1c test of interest\n",
    "      filter(result_display == \"HbA1c (NGSP)\") %>%\n",
    "      mutate_at(vars(result_tag), extract_numeric) %>%\n",
    "      select(\n",
    "        encntr_key, result_display, result_tag, result_start_dttm\n",
    "      ) -> HbA1c_result\n",
    "\n",
    "    # Cross-reference blood results with our selected episodes\n",
    "    stemi_input %>%\n",
    "      left_join(HbA1c_result, by = \"encntr_key\") %>%\n",
    "      # Find and select the first test result in the journey (Nb We need to\n",
    "      # group_by result_display here because it tracks rows with a HbA1c \n",
    "      # result, and otherwise we can't identify the first_test result).\n",
    "      group_by(journey_key, result_display) %>%\n",
    "      mutate(\n",
    "        first_hba1c = result_start_dttm == first(\n",
    "          result_start_dttm, order_by = \"result_start_dttm\")\n",
    "      ) %>%\n",
    "      ungroup() %>%\n",
    "      group_by(journey_key) %>%\n",
    "      mutate(\n",
    "        tested_hba1c = any(result_display == \"HbA1c (NGSP)\" &\n",
    "                           first_hba1c == TRUE, na.rm = TRUE)\n",
    "        ) %>%\n",
    "      ungroup() %>%\n",
    "      rename(hbA1c = result_tag) %>%\n",
    "      select(-result_display, -result_start_dttm) -> out_df\n",
    "\n",
    "    return(out_df)\n",
    "}\n",
    "\n",
    "nslhd_enctrs %>%\n",
    "  select(Status, Gender, journey_key, encntr_key) %>%\n",
    "  join_pathology_hba1c(pathology_result.rds) %>%\n",
    "  group_by(journey_key) %>%\n",
    "  mutate(\n",
    "    diabetes_hba1c = case_when(\n",
    "      any(hbA1c >= 6.5 & first_hba1c) ~ \"Present\",\n",
    "      any(hbA1c < 6.5 & first_hba1c)  ~ \"Absent\",\n",
    "      all(!tested_hba1c)              ~ \"Missing\",\n",
    "      TRUE                            ~ \"Other\"\n",
    "      )\n",
    "    ) %>%\n",
    "  ungroup() %>%\n",
    "  select(Status, Gender, journey_key, diabetes_hba1c) %>%\n",
    "  distinct() -> nslhd_journeys_diabetes_hba1c"
   ]
  },
  {
   "cell_type": "code",
   "execution_count": 32,
   "metadata": {},
   "outputs": [
    {
     "data": {
      "text/html": [
       "<table>\n",
       "<caption>Source: HbA1c results (pathology)</caption>\n",
       " <thead>\n",
       "  <tr>\n",
       "   <th style=\"text-align:left;\"> Diabetes </th>\n",
       "   <th style=\"text-align:right;\"> Present </th>\n",
       "   <th style=\"text-align:right;\"> Absent </th>\n",
       "   <th style=\"text-align:right;\"> Missing </th>\n",
       "   <th style=\"text-align:right;\"> Total </th>\n",
       "   <th style=\"text-align:right;\"> %Missing </th>\n",
       "   <th style=\"text-align:right;\"> %Present </th>\n",
       "   <th style=\"text-align:right;\"> %Error </th>\n",
       "  </tr>\n",
       " </thead>\n",
       "<tbody>\n",
       "  <tr>\n",
       "   <td style=\"text-align:left;\"> Female </td>\n",
       "   <td style=\"text-align:right;\"> 2 </td>\n",
       "   <td style=\"text-align:right;\"> 7 </td>\n",
       "   <td style=\"text-align:right;\"> 17 </td>\n",
       "   <td style=\"text-align:right;\"> 26 </td>\n",
       "   <td style=\"text-align:right;\"> 65.4 </td>\n",
       "   <td style=\"text-align:right;\"> 22.2 </td>\n",
       "   <td style=\"text-align:right;\"> 13.9 </td>\n",
       "  </tr>\n",
       "  <tr>\n",
       "   <td style=\"text-align:left;\"> Male </td>\n",
       "   <td style=\"text-align:right;\"> 6 </td>\n",
       "   <td style=\"text-align:right;\"> 26 </td>\n",
       "   <td style=\"text-align:right;\"> 45 </td>\n",
       "   <td style=\"text-align:right;\"> 77 </td>\n",
       "   <td style=\"text-align:right;\"> 58.4 </td>\n",
       "   <td style=\"text-align:right;\"> 18.8 </td>\n",
       "   <td style=\"text-align:right;\"> 6.9 </td>\n",
       "  </tr>\n",
       "  <tr>\n",
       "   <td style=\"text-align:left;\"> Total </td>\n",
       "   <td style=\"text-align:right;\"> 8 </td>\n",
       "   <td style=\"text-align:right;\"> 33 </td>\n",
       "   <td style=\"text-align:right;\"> 62 </td>\n",
       "   <td style=\"text-align:right;\"> 103 </td>\n",
       "   <td style=\"text-align:right;\"> 60.2 </td>\n",
       "   <td style=\"text-align:right;\"> 19.5 </td>\n",
       "   <td style=\"text-align:right;\"> 6.2 </td>\n",
       "  </tr>\n",
       "</tbody>\n",
       "</table>"
      ]
     },
     "metadata": {},
     "output_type": "display_data"
    }
   ],
   "source": [
    "nslhd_journeys_diabetes_hba1c %>%\n",
    "  filter(Status == \"STEMI\") %>%\n",
    "  mutate(diabetes = fct_relevel(diabetes_hba1c, \"Present\")) %>%\n",
    "  count(Gender, diabetes) %>%\n",
    "  spread(diabetes, n) %>% \n",
    "  bind_rows(summarise_all(., funs(if(is.numeric(.)) sum(.) else \"Total\"))) %>%\n",
    "  mutate(\n",
    "    Total = rowSums(select_if(., is.numeric)),\n",
    "    `%Missing` = round(Missing/Total*100, 1),\n",
    "    `%Present` = round(Present/(Present + Absent)*100, 1),\n",
    "    `%Error` = round(sqrt(`%Present`*(100-`%Present`) / (Present + Absent)),1)\n",
    "  ) %>%\n",
    "  rename(Diabetes = Gender) %>%\n",
    "  kable(caption = \"Source: HbA1c results (pathology)\") %>% \n",
    "  as.character() %>% display_html()"
   ]
  },
  {
   "cell_type": "markdown",
   "metadata": {},
   "source": [
    "### Diabetes by primary sources"
   ]
  },
  {
   "cell_type": "code",
   "execution_count": 33,
   "metadata": {},
   "outputs": [
    {
     "name": "stderr",
     "output_type": "stream",
     "text": [
      "Joining, by = c(\"Status\", \"Gender\", \"journey_key\")\n",
      "Joining, by = c(\"Status\", \"Gender\", \"journey_key\")\n"
     ]
    },
    {
     "data": {
      "text/html": [
       "<table>\n",
       "<caption>Source: All primary</caption>\n",
       " <thead>\n",
       "  <tr>\n",
       "   <th style=\"text-align:left;\"> Diabetes </th>\n",
       "   <th style=\"text-align:right;\"> Present </th>\n",
       "   <th style=\"text-align:right;\"> Absent </th>\n",
       "   <th style=\"text-align:right;\"> Total </th>\n",
       "   <th style=\"text-align:right;\"> %Missing </th>\n",
       "   <th style=\"text-align:right;\"> %Present </th>\n",
       "   <th style=\"text-align:right;\"> %Error </th>\n",
       "  </tr>\n",
       " </thead>\n",
       "<tbody>\n",
       "  <tr>\n",
       "   <td style=\"text-align:left;\"> Female </td>\n",
       "   <td style=\"text-align:right;\"> 5 </td>\n",
       "   <td style=\"text-align:right;\"> 21 </td>\n",
       "   <td style=\"text-align:right;\"> 26 </td>\n",
       "   <td style=\"text-align:right;\"> 0 </td>\n",
       "   <td style=\"text-align:right;\"> 19.2 </td>\n",
       "   <td style=\"text-align:right;\"> 7.7 </td>\n",
       "  </tr>\n",
       "  <tr>\n",
       "   <td style=\"text-align:left;\"> Male </td>\n",
       "   <td style=\"text-align:right;\"> 8 </td>\n",
       "   <td style=\"text-align:right;\"> 69 </td>\n",
       "   <td style=\"text-align:right;\"> 77 </td>\n",
       "   <td style=\"text-align:right;\"> 0 </td>\n",
       "   <td style=\"text-align:right;\"> 10.4 </td>\n",
       "   <td style=\"text-align:right;\"> 3.5 </td>\n",
       "  </tr>\n",
       "  <tr>\n",
       "   <td style=\"text-align:left;\"> Total </td>\n",
       "   <td style=\"text-align:right;\"> 13 </td>\n",
       "   <td style=\"text-align:right;\"> 90 </td>\n",
       "   <td style=\"text-align:right;\"> 103 </td>\n",
       "   <td style=\"text-align:right;\"> 0 </td>\n",
       "   <td style=\"text-align:right;\"> 12.6 </td>\n",
       "   <td style=\"text-align:right;\"> 3.3 </td>\n",
       "  </tr>\n",
       "</tbody>\n",
       "</table>"
      ]
     },
     "metadata": {},
     "output_type": "display_data"
    }
   ],
   "source": [
    "# Combining all primary sources\n",
    "nslhd_journeys_diabetes_hba1c %>%\n",
    "  left_join(nslhd_journeys_diabetes_meds) %>%\n",
    "  left_join(nslhd_journeys_diabetes_noted) %>%\n",
    "  mutate(\n",
    "    diabetes = case_when(\n",
    "      diabetes_hba1c == \"Present\" | \n",
    "      diabetes_meds  == \"Present\" | \n",
    "      diabetes_noted == \"Present\" ~ \"Present\",\n",
    "      diabetes_hba1c == \"Missing\" & \n",
    "      diabetes_meds  == \"Missing\" & \n",
    "      diabetes_noted == \"Missing\" ~ \"Missing\",\n",
    "      TRUE                        ~ \"Absent\"\n",
    "    )\n",
    "  ) %>%\n",
    "  select(Status, Gender, journey_key, diabetes) %>%\n",
    "  distinct() %>%\n",
    "  filter(Status == \"STEMI\") %>%\n",
    "  mutate(diabetes = fct_relevel(diabetes, \"Present\")) %>%\n",
    "  count(Gender, diabetes) %>%\n",
    "  spread(diabetes, n) %>% \n",
    "  bind_rows(summarise_all(., funs(if(is.numeric(.)) sum(.) else \"Total\"))) %>%\n",
    "  mutate(\n",
    "    Total = rowSums(select_if(., is.numeric)),\n",
    "    `%Missing` = Total - (Present + Absent),\n",
    "    `%Present` = round(Present/(Present + Absent)*100, 1),\n",
    "    `%Error` = round(sqrt(`%Present`*(100-`%Present`) / (Present + Absent)),1)\n",
    "  ) %>%\n",
    "  rename(Diabetes = Gender) %>%\n",
    "  kable(caption = \"Source: All primary\") %>% \n",
    "  as.character() %>% display_html()"
   ]
  },
  {
   "cell_type": "markdown",
   "metadata": {},
   "source": [
    "The prevalence of diabetes in all our primary sources is **~13 percent**. This is less than we have seen in individual sources (e.g., HbA1c results) due to missing data in those sources. It is also less than ICD10 (18%), CONCORDANCE (~20%) and Vernon *et al* (46%)"
   ]
  },
  {
   "cell_type": "markdown",
   "metadata": {},
   "source": [
    "## Hypertension\n",
    "Hypertension can be defined by systolic and diastolic blood pressure. It typically has the following definition:  \n",
    "Systolic ≥ 140 `OR` Diastolic ≥ 90  \n",
    "  \n",
    "(see the forms table) \n",
    "\n",
    "However blood pressure results in an acute care setting might not be very reliable and patients with well-managed hypertension might not be revealed by this criteria. We need to check:\n",
    "1. ICD10 codes (`I10`)\n",
    "2. Prior medical history\n",
    "3. Progress notes\n",
    "4. Prescribed medications\n",
    "5. Blood pressure records (Forms table)\n",
    "\n",
    "\n",
    "### 1. ICD10"
   ]
  },
  {
   "cell_type": "code",
   "execution_count": 34,
   "metadata": {},
   "outputs": [],
   "source": [
    "join_icd10_htn <- function(stemi_input, icd10_input) {\n",
    "      \n",
    "  diagnosis <- icd10_input %>%\n",
    "    select(encntr_key, d_present_on_admit_disp, \n",
    "           display_identifier, source_string)\n",
    "    \n",
    "    \n",
    "  stemi_input %>%\n",
    "    left_join(diagnosis, by = \"encntr_key\") %>% \n",
    "    group_by(journey_key) %>%\n",
    "    mutate(\n",
    "    # Define diabetes pre-existing or new conditions\n",
    "    htn_icd10 = case_when(\n",
    "      any(str_detect(display_identifier, \"I10\"))                   ~ \"Present\",\n",
    "      all(is.na(source_string))                                    ~ \"Missing\",\n",
    "      TRUE                                                         ~ \"Absent\"\n",
    "      )\n",
    "    ) %>% \n",
    "    select(-d_present_on_admit_disp, -display_identifier, -source_string) %>%\n",
    "    distinct() %>%\n",
    "    ungroup() -> out_df\n",
    "\n",
    "  return(out_df)    \n",
    "}\n",
    "\n",
    "nslhd_enctrs %>%\n",
    "  join_icd10_htn(diagnosis_icd10.rds) %>%\n",
    "  select(Status, Gender, journey_key, htn_icd10) %>%\n",
    "  distinct() -> nslhd_journeys_htn_icd10"
   ]
  },
  {
   "cell_type": "code",
   "execution_count": 35,
   "metadata": {},
   "outputs": [
    {
     "data": {
      "text/html": [
       "<table>\n",
       "<caption>Source: ICD10</caption>\n",
       " <thead>\n",
       "  <tr>\n",
       "   <th style=\"text-align:left;\"> Hypertension </th>\n",
       "   <th style=\"text-align:right;\"> Present </th>\n",
       "   <th style=\"text-align:right;\"> Absent </th>\n",
       "   <th style=\"text-align:right;\"> Total </th>\n",
       "   <th style=\"text-align:right;\"> %Missing </th>\n",
       "   <th style=\"text-align:right;\"> %Present </th>\n",
       "   <th style=\"text-align:right;\"> %Error </th>\n",
       "  </tr>\n",
       " </thead>\n",
       "<tbody>\n",
       "  <tr>\n",
       "   <td style=\"text-align:left;\"> Female </td>\n",
       "   <td style=\"text-align:right;\"> 8 </td>\n",
       "   <td style=\"text-align:right;\"> 18 </td>\n",
       "   <td style=\"text-align:right;\"> 26 </td>\n",
       "   <td style=\"text-align:right;\"> 0 </td>\n",
       "   <td style=\"text-align:right;\"> 30.8 </td>\n",
       "   <td style=\"text-align:right;\"> 9.1 </td>\n",
       "  </tr>\n",
       "  <tr>\n",
       "   <td style=\"text-align:left;\"> Male </td>\n",
       "   <td style=\"text-align:right;\"> 13 </td>\n",
       "   <td style=\"text-align:right;\"> 64 </td>\n",
       "   <td style=\"text-align:right;\"> 77 </td>\n",
       "   <td style=\"text-align:right;\"> 0 </td>\n",
       "   <td style=\"text-align:right;\"> 16.9 </td>\n",
       "   <td style=\"text-align:right;\"> 4.3 </td>\n",
       "  </tr>\n",
       "  <tr>\n",
       "   <td style=\"text-align:left;\"> Total </td>\n",
       "   <td style=\"text-align:right;\"> 21 </td>\n",
       "   <td style=\"text-align:right;\"> 82 </td>\n",
       "   <td style=\"text-align:right;\"> 103 </td>\n",
       "   <td style=\"text-align:right;\"> 0 </td>\n",
       "   <td style=\"text-align:right;\"> 20.4 </td>\n",
       "   <td style=\"text-align:right;\"> 4.0 </td>\n",
       "  </tr>\n",
       "</tbody>\n",
       "</table>"
      ]
     },
     "metadata": {},
     "output_type": "display_data"
    }
   ],
   "source": [
    "nslhd_journeys_htn_icd10 %>%\n",
    "  filter(Status == \"STEMI\") %>%\n",
    "  mutate(htn = fct_relevel(htn_icd10, \"Present\")) %>%\n",
    "  count(Gender, htn) %>%\n",
    "  spread(htn, n, fill = 0) %>%\n",
    "  bind_rows(summarise_all(., funs(if(is.numeric(.)) sum(.) else \"Total\"))) %>%\n",
    "  mutate(\n",
    "    Total = rowSums(select_if(., is.numeric)),\n",
    "    `%Missing` = Total - (Present + Absent),\n",
    "    `%Present` = round(Present/(Present + Absent)*100, 1),\n",
    "    `%Error` = round(sqrt(`%Present`*(100-`%Present`) / (Present + Absent)),1)\n",
    "  ) %>%\n",
    "  rename(Hypertension = Gender) %>%\n",
    "  kable(caption = \"Source: ICD10\") %>% \n",
    "  as.character() %>% display_html()"
   ]
  },
  {
   "cell_type": "markdown",
   "metadata": {},
   "source": [
    "According to the **ICD10 codes** the overall rate of hypertension is **~20 percent** in this STEMI cohort. This is less than half of CONCORDANCE at ~50 percent (47.5 and 59 percent in men and women, respectively), and Vernon *et al* (44 percent). "
   ]
  },
  {
   "cell_type": "markdown",
   "metadata": {},
   "source": [
    "### 2. ED notes"
   ]
  },
  {
   "cell_type": "code",
   "execution_count": 51,
   "metadata": {},
   "outputs": [],
   "source": [
    "join_notes_htn <- function(stemi_input, notes_input) {\n",
    "# PARAMETERS\n",
    "# stemi_input: A dataframe with JOURNEY_KEY, ENCNTR_KEY\n",
    "# notes_input: A dataframe with ENCNTR_KEY, RESPONSE, RESPONSE_TYPE \n",
    "# RETURNS \n",
    "# a dataframe with one added column \"notes_htn\"\n",
    "    \n",
    "    notes_input %>%\n",
    "      select(encntr_key, note_value) %>%\n",
    "      as_tibble() -> notes_table\n",
    "    \n",
    "    source(\"../src/CLACK/R/CLACK.R\")\n",
    "\n",
    "    stemi_input %>%\n",
    "      left_join(notes_table, by = \"encntr_key\") %>%\n",
    "      group_by(journey_key) %>%\n",
    "      mutate(noted = any(!is.na(note_value))) %>%\n",
    "      ungroup() %>%\n",
    "      Classify_Text(\"note_value\", \"../src/hypertension.json\") %>%\n",
    "      group_by(journey_key) %>%\n",
    "      mutate(\n",
    "        htn_noted = case_when(\n",
    "          any(CLASSIFICATION == \"high\") ~ \"Present\",\n",
    "          all(!noted)                   ~ \"Missing\",\n",
    "          TRUE                          ~ \"Absent\"\n",
    "          )\n",
    "        ) %>%\n",
    "      select(\n",
    "        -noted, -note_value, -CLASSIFICATION, -CLASSIFICATION_REASON\n",
    "        ) %>%\n",
    "      ungroup() %>%\n",
    "      distinct() -> out_df\n",
    "    \n",
    "    return(out_df)\n",
    "}\n",
    "\n",
    "nslhd_enctrs %>%\n",
    "  join_notes_htn(notes_ED.rds) %>%\n",
    "  select(Status, Gender, journey_key, htn_noted) %>%\n",
    "  distinct() -> nslhd_journeys_htn_notes"
   ]
  },
  {
   "cell_type": "code",
   "execution_count": 52,
   "metadata": {},
   "outputs": [
    {
     "data": {
      "text/html": [
       "<table>\n",
       "<caption>Source: ED notes</caption>\n",
       " <thead>\n",
       "  <tr>\n",
       "   <th style=\"text-align:left;\"> Hypertension </th>\n",
       "   <th style=\"text-align:right;\"> Present </th>\n",
       "   <th style=\"text-align:right;\"> Absent </th>\n",
       "   <th style=\"text-align:right;\"> Missing </th>\n",
       "   <th style=\"text-align:right;\"> Total </th>\n",
       "   <th style=\"text-align:right;\"> %Missing </th>\n",
       "   <th style=\"text-align:right;\"> %Present </th>\n",
       "   <th style=\"text-align:right;\"> %Error </th>\n",
       "  </tr>\n",
       " </thead>\n",
       "<tbody>\n",
       "  <tr>\n",
       "   <td style=\"text-align:left;\"> Female </td>\n",
       "   <td style=\"text-align:right;\"> 8 </td>\n",
       "   <td style=\"text-align:right;\"> 8 </td>\n",
       "   <td style=\"text-align:right;\"> 10 </td>\n",
       "   <td style=\"text-align:right;\"> 26 </td>\n",
       "   <td style=\"text-align:right;\"> 38.5 </td>\n",
       "   <td style=\"text-align:right;\"> 50.0 </td>\n",
       "   <td style=\"text-align:right;\"> 12.5 </td>\n",
       "  </tr>\n",
       "  <tr>\n",
       "   <td style=\"text-align:left;\"> Male </td>\n",
       "   <td style=\"text-align:right;\"> 26 </td>\n",
       "   <td style=\"text-align:right;\"> 23 </td>\n",
       "   <td style=\"text-align:right;\"> 28 </td>\n",
       "   <td style=\"text-align:right;\"> 77 </td>\n",
       "   <td style=\"text-align:right;\"> 36.4 </td>\n",
       "   <td style=\"text-align:right;\"> 53.1 </td>\n",
       "   <td style=\"text-align:right;\"> 7.1 </td>\n",
       "  </tr>\n",
       "  <tr>\n",
       "   <td style=\"text-align:left;\"> Total </td>\n",
       "   <td style=\"text-align:right;\"> 34 </td>\n",
       "   <td style=\"text-align:right;\"> 31 </td>\n",
       "   <td style=\"text-align:right;\"> 38 </td>\n",
       "   <td style=\"text-align:right;\"> 103 </td>\n",
       "   <td style=\"text-align:right;\"> 36.9 </td>\n",
       "   <td style=\"text-align:right;\"> 52.3 </td>\n",
       "   <td style=\"text-align:right;\"> 6.2 </td>\n",
       "  </tr>\n",
       "</tbody>\n",
       "</table>"
      ]
     },
     "metadata": {},
     "output_type": "display_data"
    }
   ],
   "source": [
    "nslhd_journeys_htn_notes %>%\n",
    "  filter(Status == \"STEMI\") %>%\n",
    "  mutate(htn = fct_relevel(htn_noted, \"Present\")) %>%\n",
    "  count(Gender, htn) %>%\n",
    "  spread(htn, n, fill = 0) %>%\n",
    "  bind_rows(summarise_all(., funs(if(is.numeric(.)) sum(.) else \"Total\"))) %>%\n",
    "  mutate(\n",
    "    Total = rowSums(select_if(., is.numeric)),\n",
    "    `%Missing` = round(Missing/Total*100, 1),\n",
    "    `%Present` = round(Present/(Present + Absent)*100, 1),\n",
    "    `%Error` = round(sqrt(`%Present`*(100-`%Present`) / (Present + Absent)),1)\n",
    "  ) %>%\n",
    "  rename(Hypertension = Gender) %>%\n",
    "  kable(caption = \"Source: ED notes\") %>% \n",
    "  as.character() %>% display_html()"
   ]
  },
  {
   "cell_type": "markdown",
   "metadata": {},
   "source": [
    "According to the **ED notes**, the prevalence of hypertension in STEMI is **~52 percent** overall. This is comparable to CONCORDANCE (~50 percent) and Vernon *et al* (44 percent)."
   ]
  },
  {
   "cell_type": "markdown",
   "metadata": {},
   "source": [
    "### 3. Progress notes\n",
    "To be done"
   ]
  },
  {
   "cell_type": "markdown",
   "metadata": {},
   "source": [
    "### 4. Medicines"
   ]
  },
  {
   "cell_type": "code",
   "execution_count": 57,
   "metadata": {},
   "outputs": [],
   "source": [
    "join_meds_htn <- function(stemi_input, medicine_input) {\n",
    "# PARAMETERS\n",
    "# stemi_input: A dataframe with journey_key and encntr_key\n",
    "# medicine_input: A dataframe with encntr_key, medication_name and groups\n",
    "# RETURNS\n",
    "# a dataframe with added column \"medications_htn\"\n",
    "  \n",
    "    source(\"../src/journeyr.r\")\n",
    "    \n",
    "    stemi_input %>%\n",
    "      mark_journeys_with_discharge_meds(medicine_input) %>% # from journeyr.r\n",
    "      mutate(has_meds = final_groups != \"NULL\") %>%         # from journeyr.r\n",
    "      select(journey_key, has_meds) -> episodes_with_medicines\n",
    "    \n",
    "    medicine_input %>%\n",
    "      filter(purrr::map_lgl(groups, ~any(stringr::str_detect(.x, \n",
    "        \"Beta|FrusemideLasix|ACE|AR2B|Calcium|diuretic|antihypertensives\"\n",
    "        )))) %>%\n",
    "      select(encntr_key, medication_name) -> hypertension_medicines\n",
    "    \n",
    "    stemi_input %>%\n",
    "      left_join(hypertension_medicines, by = c(\"encntr_key\")) %>%\n",
    "      left_join(episodes_with_medicines, by = c(\"journey_key\")) %>%\n",
    "      group_by(journey_key) %>%\n",
    "      mutate(\n",
    "        htn_meds = case_when(\n",
    "          any(!is.na(medication_name)) ~ \"Present\",\n",
    "          !has_meds ~ \"Missing\",\n",
    "          TRUE ~ \"Absent\"\n",
    "          )\n",
    "        ) %>%\n",
    "      select(-medication_name, -has_meds) %>%\n",
    "      ungroup() %>%\n",
    "      distinct() -> out_df\n",
    "    \n",
    "    return(out_df)\n",
    "}\n",
    "\n",
    "nslhd_enctrs %>%\n",
    "  join_meds_htn(meds_spread.rds) %>%\n",
    "  select(Status, Gender, journey_key, htn_meds) %>%\n",
    "  distinct() -> nslhd_journeys_htn_meds"
   ]
  },
  {
   "cell_type": "code",
   "execution_count": 58,
   "metadata": {},
   "outputs": [
    {
     "data": {
      "text/html": [
       "<table>\n",
       "<caption>Source: Medications</caption>\n",
       " <thead>\n",
       "  <tr>\n",
       "   <th style=\"text-align:left;\"> Hypertension </th>\n",
       "   <th style=\"text-align:right;\"> Present </th>\n",
       "   <th style=\"text-align:right;\"> Absent </th>\n",
       "   <th style=\"text-align:right;\"> Total </th>\n",
       "   <th style=\"text-align:right;\"> %Missing </th>\n",
       "   <th style=\"text-align:right;\"> %Present </th>\n",
       "   <th style=\"text-align:right;\"> %Error </th>\n",
       "  </tr>\n",
       " </thead>\n",
       "<tbody>\n",
       "  <tr>\n",
       "   <td style=\"text-align:left;\"> Female </td>\n",
       "   <td style=\"text-align:right;\"> 19 </td>\n",
       "   <td style=\"text-align:right;\"> 7 </td>\n",
       "   <td style=\"text-align:right;\"> 26 </td>\n",
       "   <td style=\"text-align:right;\"> 0 </td>\n",
       "   <td style=\"text-align:right;\"> 73.1 </td>\n",
       "   <td style=\"text-align:right;\"> 8.7 </td>\n",
       "  </tr>\n",
       "  <tr>\n",
       "   <td style=\"text-align:left;\"> Male </td>\n",
       "   <td style=\"text-align:right;\"> 55 </td>\n",
       "   <td style=\"text-align:right;\"> 22 </td>\n",
       "   <td style=\"text-align:right;\"> 77 </td>\n",
       "   <td style=\"text-align:right;\"> 0 </td>\n",
       "   <td style=\"text-align:right;\"> 71.4 </td>\n",
       "   <td style=\"text-align:right;\"> 5.1 </td>\n",
       "  </tr>\n",
       "  <tr>\n",
       "   <td style=\"text-align:left;\"> Total </td>\n",
       "   <td style=\"text-align:right;\"> 74 </td>\n",
       "   <td style=\"text-align:right;\"> 29 </td>\n",
       "   <td style=\"text-align:right;\"> 103 </td>\n",
       "   <td style=\"text-align:right;\"> 0 </td>\n",
       "   <td style=\"text-align:right;\"> 71.8 </td>\n",
       "   <td style=\"text-align:right;\"> 4.4 </td>\n",
       "  </tr>\n",
       "</tbody>\n",
       "</table>"
      ]
     },
     "metadata": {},
     "output_type": "display_data"
    }
   ],
   "source": [
    "nslhd_journeys_htn_meds %>%\n",
    "  filter(Status == \"STEMI\") %>%\n",
    "  mutate(htn = fct_relevel(htn_meds, \"Present\")) %>%\n",
    "  count(Gender, htn) %>%\n",
    "  spread(htn, n, fill = 0) %>%\n",
    "  bind_rows(summarise_all(., funs(if(is.numeric(.)) sum(.) else \"Total\"))) %>%\n",
    "  mutate(\n",
    "    Total = rowSums(select_if(., is.numeric)),\n",
    "    `%Missing` = Total - (Present + Absent),\n",
    "    `%Present` = round(Present/(Present + Absent)*100, 1),\n",
    "    `%Error` = round(sqrt(`%Present`*(100-`%Present`) / (Present + Absent)),1)\n",
    "  ) %>%\n",
    "  rename(Hypertension = Gender) %>%\n",
    "  kable(caption = \"Source: Medications\") %>% \n",
    "  as.character() %>% display_html()"
   ]
  },
  {
   "cell_type": "markdown",
   "metadata": {},
   "source": [
    "According to our list of anti-hypertension **medications**, the prevalence of hypertension in STEMI is **> 70 percent**. This is much higher than CONCORDANCE at ~50 percent or Vernon et al 2017 at 44 percent. This may be because our list of anti-hypertension medications is not exclusively prescribed for hypertension."
   ]
  },
  {
   "cell_type": "markdown",
   "metadata": {},
   "source": [
    "### 5. Blood pressure records"
   ]
  },
  {
   "cell_type": "code",
   "execution_count": 41,
   "metadata": {},
   "outputs": [],
   "source": [
    "join_forms_bp <- function(stemi_input, forms_input) {\n",
    "# PARAMETERS\n",
    "# stemi_input: A dataframe with journey_key, encntr_key\n",
    "# forms_input: A dataframe with encntr_key, form_name, section_name\n",
    "# & charted_value, label, form_modif_dttm\n",
    "# RETURNS\n",
    "# a dataframe with added columns \"BP\", \"BP_dttm\", \"Label\" & \"Threshold\"\n",
    "  \n",
    "  # Extract the blood pressure fields\n",
    "  forms_input %>%\n",
    "  filter(form_name == \"BTF Vital Signs & Observations\") %>%\n",
    "  filter(section_name == \"zz_BTF Vital Signs\") %>%\n",
    "  filter(str_detect(label, \"Systolic|Diastolic\")) %>%\n",
    "  select(encntr_key, label, BP = charted_value, BP_dttm = form_modif_dttm) %>%\n",
    "  mutate(BP = extract_numeric(BP)) -> BP.encntr\n",
    "\n",
    "  stemi_input %>%\n",
    "    left_join(BP.encntr, by = \"encntr_key\") %>%\n",
    "    # We need to collapse the different labels for systolic and diastolic\n",
    "    # measurements (e.g., invasive, non-invasive) here\n",
    "    mutate(\n",
    "      Label = case_when(\n",
    "        str_detect(label, \"Systolic\") ~ \"Systolic\",\n",
    "        str_detect(label, \"Diastolic\") ~ \"Diastolic\"\n",
    "        ), \n",
    "      Threshold = case_when(\n",
    "        Label == \"Systolic\" & BP >= 140 ~ \"Above\",\n",
    "        Label == \"Diastolic\" & BP >= 90 ~ \"Above\",\n",
    "        is.na(BP)                       ~ NA_character_,\n",
    "        TRUE ~ \"Below\"\n",
    "        )\n",
    "      ) %>%\n",
    "    select(-label) -> out_df\n",
    "}\n",
    "\n",
    "nslhd_enctrs %>%\n",
    "  join_forms_bp(form_data.rds) %>%\n",
    "  select(Status, Gender, journey_key, Threshold) %>%\n",
    "  group_by(journey_key) %>%\n",
    "  mutate(\n",
    "    htn_bp = case_when(\n",
    "      all(is.na(Threshold))     ~ \"Missing\",\n",
    "      any(Threshold == \"Above\") ~ \"Present\",\n",
    "      TRUE                      ~ \"Absent\"\n",
    "      )\n",
    "    ) %>%\n",
    "  ungroup() %>%\n",
    "  select(-Threshold) %>%\n",
    "  distinct() -> nslhd_journeys_htn_bp"
   ]
  },
  {
   "cell_type": "code",
   "execution_count": 42,
   "metadata": {},
   "outputs": [
    {
     "data": {
      "text/html": [
       "<table>\n",
       "<caption>Source: Blood pressure (Forms)</caption>\n",
       " <thead>\n",
       "  <tr>\n",
       "   <th style=\"text-align:left;\"> Hypertension </th>\n",
       "   <th style=\"text-align:right;\"> Present </th>\n",
       "   <th style=\"text-align:right;\"> Absent </th>\n",
       "   <th style=\"text-align:right;\"> Missing </th>\n",
       "   <th style=\"text-align:right;\"> Total </th>\n",
       "   <th style=\"text-align:right;\"> %Missing </th>\n",
       "   <th style=\"text-align:right;\"> %Present </th>\n",
       "   <th style=\"text-align:right;\"> %Error </th>\n",
       "  </tr>\n",
       " </thead>\n",
       "<tbody>\n",
       "  <tr>\n",
       "   <td style=\"text-align:left;\"> Female </td>\n",
       "   <td style=\"text-align:right;\"> 14 </td>\n",
       "   <td style=\"text-align:right;\"> 11 </td>\n",
       "   <td style=\"text-align:right;\"> 1 </td>\n",
       "   <td style=\"text-align:right;\"> 26 </td>\n",
       "   <td style=\"text-align:right;\"> 3.8 </td>\n",
       "   <td style=\"text-align:right;\"> 56.0 </td>\n",
       "   <td style=\"text-align:right;\"> 9.9 </td>\n",
       "  </tr>\n",
       "  <tr>\n",
       "   <td style=\"text-align:left;\"> Male </td>\n",
       "   <td style=\"text-align:right;\"> 36 </td>\n",
       "   <td style=\"text-align:right;\"> 34 </td>\n",
       "   <td style=\"text-align:right;\"> 7 </td>\n",
       "   <td style=\"text-align:right;\"> 77 </td>\n",
       "   <td style=\"text-align:right;\"> 9.1 </td>\n",
       "   <td style=\"text-align:right;\"> 51.4 </td>\n",
       "   <td style=\"text-align:right;\"> 6.0 </td>\n",
       "  </tr>\n",
       "  <tr>\n",
       "   <td style=\"text-align:left;\"> Total </td>\n",
       "   <td style=\"text-align:right;\"> 50 </td>\n",
       "   <td style=\"text-align:right;\"> 45 </td>\n",
       "   <td style=\"text-align:right;\"> 8 </td>\n",
       "   <td style=\"text-align:right;\"> 103 </td>\n",
       "   <td style=\"text-align:right;\"> 7.8 </td>\n",
       "   <td style=\"text-align:right;\"> 52.6 </td>\n",
       "   <td style=\"text-align:right;\"> 5.1 </td>\n",
       "  </tr>\n",
       "</tbody>\n",
       "</table>"
      ]
     },
     "metadata": {},
     "output_type": "display_data"
    }
   ],
   "source": [
    "nslhd_journeys_htn_bp %>%\n",
    "  filter(Status == \"STEMI\") %>%\n",
    "  mutate(htn = fct_relevel(htn_bp, \"Present\")) %>%\n",
    "  count(Gender, htn) %>%\n",
    "  spread(htn, n, fill = 0) %>%\n",
    "  bind_rows(summarise_all(., funs(if(is.numeric(.)) sum(.) else \"Total\"))) %>%\n",
    "  mutate(\n",
    "    Total = rowSums(select_if(., is.numeric)),\n",
    "    `%Missing` = round(Missing/Total*100, 1),\n",
    "    `%Present` = round(Present/(Present + Absent)*100, 1),\n",
    "    `%Error` = round(sqrt(`%Present`*(100-`%Present`) / (Present + Absent)),1)\n",
    "  ) %>%\n",
    "  rename(Hypertension = Gender) %>%\n",
    "  kable(caption = \"Source: Blood pressure (Forms)\") %>% \n",
    "  as.character() %>% display_html()"
   ]
  },
  {
   "cell_type": "markdown",
   "metadata": {},
   "source": [
    "Prevalence of hypertension according to **blood pressure results** is **~53 percent**, similar to ICD10 (~52%), and slightly more than CONCORDANCE (~50%) and Vernon *et al* (46%)"
   ]
  },
  {
   "cell_type": "markdown",
   "metadata": {},
   "source": [
    "### Hypertension by primary sources"
   ]
  },
  {
   "cell_type": "code",
   "execution_count": 60,
   "metadata": {},
   "outputs": [
    {
     "name": "stderr",
     "output_type": "stream",
     "text": [
      "Joining, by = c(\"Status\", \"Gender\", \"journey_key\")\n",
      "Joining, by = c(\"Status\", \"Gender\", \"journey_key\")\n"
     ]
    },
    {
     "data": {
      "text/html": [
       "<table>\n",
       "<caption>Source: All primary</caption>\n",
       " <thead>\n",
       "  <tr>\n",
       "   <th style=\"text-align:left;\"> Hypertension </th>\n",
       "   <th style=\"text-align:right;\"> Present </th>\n",
       "   <th style=\"text-align:right;\"> Absent </th>\n",
       "   <th style=\"text-align:right;\"> Total </th>\n",
       "   <th style=\"text-align:right;\"> %Missing </th>\n",
       "   <th style=\"text-align:right;\"> %Present </th>\n",
       "   <th style=\"text-align:right;\"> %Error </th>\n",
       "  </tr>\n",
       " </thead>\n",
       "<tbody>\n",
       "  <tr>\n",
       "   <td style=\"text-align:left;\"> Female </td>\n",
       "   <td style=\"text-align:right;\"> 23 </td>\n",
       "   <td style=\"text-align:right;\"> 3 </td>\n",
       "   <td style=\"text-align:right;\"> 26 </td>\n",
       "   <td style=\"text-align:right;\"> 0 </td>\n",
       "   <td style=\"text-align:right;\"> 88.5 </td>\n",
       "   <td style=\"text-align:right;\"> 6.3 </td>\n",
       "  </tr>\n",
       "  <tr>\n",
       "   <td style=\"text-align:left;\"> Male </td>\n",
       "   <td style=\"text-align:right;\"> 66 </td>\n",
       "   <td style=\"text-align:right;\"> 11 </td>\n",
       "   <td style=\"text-align:right;\"> 77 </td>\n",
       "   <td style=\"text-align:right;\"> 0 </td>\n",
       "   <td style=\"text-align:right;\"> 85.7 </td>\n",
       "   <td style=\"text-align:right;\"> 4.0 </td>\n",
       "  </tr>\n",
       "  <tr>\n",
       "   <td style=\"text-align:left;\"> Total </td>\n",
       "   <td style=\"text-align:right;\"> 89 </td>\n",
       "   <td style=\"text-align:right;\"> 14 </td>\n",
       "   <td style=\"text-align:right;\"> 103 </td>\n",
       "   <td style=\"text-align:right;\"> 0 </td>\n",
       "   <td style=\"text-align:right;\"> 86.4 </td>\n",
       "   <td style=\"text-align:right;\"> 3.4 </td>\n",
       "  </tr>\n",
       "</tbody>\n",
       "</table>"
      ]
     },
     "metadata": {},
     "output_type": "display_data"
    }
   ],
   "source": [
    "# Combining all primary sources\n",
    "nslhd_journeys_htn_bp %>%\n",
    "  left_join(nslhd_journeys_htn_meds) %>%\n",
    "  left_join(nslhd_journeys_htn_notes) %>%\n",
    "  mutate(\n",
    "    hypertension = case_when(\n",
    "      htn_bp     == \"Present\" | \n",
    "      htn_meds   == \"Present\" | \n",
    "      htn_noted  == \"Present\" ~ \"Present\",\n",
    "      htn_bp     == \"Missing\" & \n",
    "      htn_meds   == \"Missing\" & \n",
    "      htn_noted  == \"Missing\" ~ \"Missing\",\n",
    "      TRUE                    ~ \"Absent\"\n",
    "    )\n",
    "  ) %>%\n",
    "  select(Status, Gender, journey_key, hypertension) %>%\n",
    "  distinct() %>%\n",
    "  filter(Status == \"STEMI\") %>%\n",
    "  mutate(hypertension = fct_relevel(hypertension, \"Present\")) %>%\n",
    "  count(Gender, hypertension) %>%\n",
    "  spread(hypertension, n) %>% \n",
    "  bind_rows(summarise_all(., funs(if(is.numeric(.)) sum(.) else \"Total\"))) %>%\n",
    "  mutate(\n",
    "    Total = rowSums(select_if(., is.numeric)),\n",
    "    `%Missing` = Total - (Present + Absent),\n",
    "    `%Present` = round(Present/(Present + Absent)*100, 1),\n",
    "    `%Error` = round(sqrt(`%Present`*(100-`%Present`) / (Present + Absent)),1)\n",
    "  ) %>%\n",
    "  rename(Hypertension = Gender) %>%\n",
    "  kable(caption = \"Source: All primary\") %>% \n",
    "  as.character() %>% display_html()"
   ]
  },
  {
   "cell_type": "code",
   "execution_count": 172,
   "metadata": {},
   "outputs": [
    {
     "name": "stderr",
     "output_type": "stream",
     "text": [
      "Warning message:\n",
      "“Removed 1 rows containing missing values (geom_path).”"
     ]
    },
    {
     "data": {
      "image/png": "[encoded data removed]",
      "text/plain": [
       "plot without title"
      ]
     },
     "metadata": {},
     "output_type": "display_data"
    }
   ],
   "source": [
    "# Create a dataframe for plotting\n",
    "nslhd_enctrs %>%\n",
    "#   filter(Status == \"STEMI\") %>%\n",
    "  join_forms_bp(form_data.rds) %>%\n",
    "  select(Gender, journey_key, encntr_key, Label, BP, BP_dttm) %>%\n",
    "  group_by(journey_key, Label) %>%\n",
    "  mutate(\n",
    "#     Test = seq(1, length(Label)),\n",
    "    Hours = as.integer(round((BP_dttm - min(BP_dttm))/3600)),\n",
    "    Mean = mean(BP),\n",
    "    L1 = abs(BP - mean(BP))\n",
    "  ) %>%\n",
    "  ungroup() %>%\n",
    "  group_by(Label, Hours) %>%\n",
    "  summarise(\n",
    "    mean_L1 = mean(L1),\n",
    "    sd_L1 = sd(L1),\n",
    "    n = n()\n",
    "  ) -> df\n",
    "\n",
    "options(repr.plot.width=6, repr.plot.height=2)\n",
    "\n",
    "# Plot the number of episodes against the number of tests. \n",
    "df %>%\n",
    "  ggplot(aes(x = Hours, y = n)) +\n",
    "    geom_line() +\n",
    "    geom_hline(aes(yintercept = 30), linetype = 2)"
   ]
  },
  {
   "cell_type": "code",
   "execution_count": 176,
   "metadata": {},
   "outputs": [
    {
     "data": {
      "image/png": "[encoded data removed]",
      "text/plain": [
       "plot without title"
      ]
     },
     "metadata": {},
     "output_type": "display_data"
    }
   ],
   "source": [
    "options(repr.plot.width=6, repr.plot.height=4)\n",
    "\n",
    "# Plot the change in variation in BP test results over time\n",
    "df %>%\n",
    "  filter(n > 30 & !is.na(mean_L1)) %>% \n",
    "  ggplot(aes(x = Hours, y = mean_L1, group = Label)) +\n",
    "    geom_line(aes(alpha = n)) +\n",
    "    geom_ribbon(\n",
    "      aes(ymin = mean_L1 - sd_L1, ymax = mean_L1 + sd_L1, fill = Label),\n",
    "      alpha = 0.25) +\n",
    "    geom_vline(aes(xintercept = 10), linetype = 2) +\n",
    "    facet_wrap(~Label, ncol = 1, scales = 'free_y') +\n",
    "    labs(\n",
    "      title = \"Variation in BP measurements over tests (time)\",\n",
    "      subtitle = \"mean L1 difference (from each individual mean) ± SD\",\n",
    "      y = \"\") +\n",
    "    theme(legend.position = \"none\")"
   ]
  },
  {
   "cell_type": "markdown",
   "metadata": {},
   "source": [
    "Blood pressure measurements tend to stablise in the first ten hours after time 0 (first BP measurement)"
   ]
  },
  {
   "cell_type": "markdown",
   "metadata": {},
   "source": [
    "## Hyperlipidemia\n",
    "Hyperlipidemia is normally defined by abnormal cholesterol tests indicating:\n",
    "- Cholesterol (>5.5mmol/L)\n",
    "- Triglycerides (>2.0mmol/L) \n",
    "- LDL (>2,0mmol/L) \n",
    "- HDL (<1.0mmol/L)\n",
    "\n",
    "(see pathology table)  \n",
    "\n",
    "\n",
    "However, as with hypertension, test results in an acute care setting may not be a reliable indicator of baseline levels, and well-managed patients may not be revealed by this criteria. We need to check:\n",
    "1. ICD10 codes (`E78`)\n",
    "2. Recorded diagnoses in past medical history (ED notes)\n",
    "3. Progress notes\n",
    "4. Medications for hyperlipidemia\n",
    "5. Cholesterol results (pathology)\n",
    "\n",
    "### 1. ICD10 codes"
   ]
  },
  {
   "cell_type": "code",
   "execution_count": 61,
   "metadata": {},
   "outputs": [],
   "source": [
    "join_icd10_lipids <- function(stemi_input, icd10_input) {\n",
    "      \n",
    "  diagnosis <- icd10_input %>%\n",
    "    select(encntr_key, d_present_on_admit_disp, \n",
    "           display_identifier, source_string)\n",
    "    \n",
    "  stemi_input %>%\n",
    "    left_join(diagnosis, by = \"encntr_key\") %>% \n",
    "    group_by(journey_key) %>%\n",
    "    mutate(\n",
    "    # Define diabetes pre-existing or new conditions\n",
    "    lipids_icd10 = case_when(\n",
    "      any(str_detect(display_identifier, \"E78\"))                   ~ \"Present\",\n",
    "      all(is.na(source_string))                                    ~ \"Missing\",\n",
    "      TRUE                                                         ~ \"Absent\"\n",
    "      )\n",
    "    ) %>% \n",
    "    select(-d_present_on_admit_disp, -display_identifier, -source_string) %>%\n",
    "    distinct() %>%\n",
    "    ungroup() -> out_df\n",
    "\n",
    "  return(out_df)    \n",
    "}\n",
    "\n",
    "nslhd_enctrs %>%\n",
    "  join_icd10_lipids(diagnosis_icd10.rds) %>%\n",
    "  select(Status, Gender, journey_key, lipids_icd10) %>%\n",
    "  distinct() -> nslhd_journeys_lipids_icd10"
   ]
  },
  {
   "cell_type": "code",
   "execution_count": 63,
   "metadata": {},
   "outputs": [
    {
     "data": {
      "text/html": [
       "<table>\n",
       "<caption>Source: ICD10</caption>\n",
       " <thead>\n",
       "  <tr>\n",
       "   <th style=\"text-align:left;\"> Hyperlipedemia </th>\n",
       "   <th style=\"text-align:right;\"> Present </th>\n",
       "   <th style=\"text-align:right;\"> Absent </th>\n",
       "   <th style=\"text-align:right;\"> Total </th>\n",
       "   <th style=\"text-align:right;\"> %Missing </th>\n",
       "   <th style=\"text-align:right;\"> %Present </th>\n",
       "   <th style=\"text-align:right;\"> %Error </th>\n",
       "  </tr>\n",
       " </thead>\n",
       "<tbody>\n",
       "  <tr>\n",
       "   <td style=\"text-align:left;\"> Female </td>\n",
       "   <td style=\"text-align:right;\"> 1 </td>\n",
       "   <td style=\"text-align:right;\"> 25 </td>\n",
       "   <td style=\"text-align:right;\"> 26 </td>\n",
       "   <td style=\"text-align:right;\"> 0 </td>\n",
       "   <td style=\"text-align:right;\"> 3.8 </td>\n",
       "   <td style=\"text-align:right;\"> 3.7 </td>\n",
       "  </tr>\n",
       "  <tr>\n",
       "   <td style=\"text-align:left;\"> Male </td>\n",
       "   <td style=\"text-align:right;\"> 6 </td>\n",
       "   <td style=\"text-align:right;\"> 71 </td>\n",
       "   <td style=\"text-align:right;\"> 77 </td>\n",
       "   <td style=\"text-align:right;\"> 0 </td>\n",
       "   <td style=\"text-align:right;\"> 7.8 </td>\n",
       "   <td style=\"text-align:right;\"> 3.1 </td>\n",
       "  </tr>\n",
       "  <tr>\n",
       "   <td style=\"text-align:left;\"> Total </td>\n",
       "   <td style=\"text-align:right;\"> 7 </td>\n",
       "   <td style=\"text-align:right;\"> 96 </td>\n",
       "   <td style=\"text-align:right;\"> 103 </td>\n",
       "   <td style=\"text-align:right;\"> 0 </td>\n",
       "   <td style=\"text-align:right;\"> 6.8 </td>\n",
       "   <td style=\"text-align:right;\"> 2.5 </td>\n",
       "  </tr>\n",
       "</tbody>\n",
       "</table>"
      ]
     },
     "metadata": {},
     "output_type": "display_data"
    }
   ],
   "source": [
    "nslhd_journeys_lipids_icd10 %>%\n",
    "  filter(Status == \"STEMI\") %>%\n",
    "  mutate(lipids = fct_relevel(lipids_icd10, \"Present\")) %>%\n",
    "  count(Gender, lipids) %>%\n",
    "  spread(lipids, n, fill = 0) %>%\n",
    "  bind_rows(summarise_all(., funs(if(is.numeric(.)) sum(.) else \"Total\"))) %>%\n",
    "  mutate(\n",
    "    Total = rowSums(select_if(., is.numeric)),\n",
    "    `%Missing` = Total - (Present + Absent),\n",
    "    `%Present` = round(Present/(Present + Absent)*100, 1),\n",
    "    `%Error` = round(sqrt(`%Present`*(100-`%Present`) / (Present + Absent)),1)\n",
    "  ) %>%\n",
    "  rename(Hyperlipedemia = Gender) %>%\n",
    "  kable(caption = \"Source: ICD10\") %>% \n",
    "  as.character() %>% display_html()"
   ]
  },
  {
   "cell_type": "markdown",
   "metadata": {},
   "source": [
    "Hyperlipidemia by **ICD10 codes** is **~7 percent**, which is six times lower than CONCORDANCE at ~43 percent (42.8 and 43.8 percent in men and women, respectively) and Vernon et al 2017 (41 percent)."
   ]
  },
  {
   "cell_type": "markdown",
   "metadata": {},
   "source": [
    "### 2. ED notes"
   ]
  },
  {
   "cell_type": "code",
   "execution_count": 66,
   "metadata": {},
   "outputs": [],
   "source": [
    "join_notes_lipid <- function(stemi_input, notes_input) {\n",
    "# PARAMETERS\n",
    "# stemi_input: A dataframe with journey_key, encntr_key\n",
    "# notes_input: A dataframe with encntr_key, response, response_type \n",
    "# RETURNS\n",
    "# a dataframe with added column \"notes_lipid\"\n",
    "    \n",
    "    notes_input %>%\n",
    "      select(encntr_key, note_value) %>%\n",
    "      as_tibble() -> notes_table\n",
    "    \n",
    "    source(\"../src/CLACK/R/CLACK.R\")\n",
    "\n",
    "    stemi_input %>%\n",
    "      left_join(notes_table, by = \"encntr_key\") %>%\n",
    "      group_by(journey_key) %>%\n",
    "      mutate(noted = any(!is.na(note_value))) %>%\n",
    "      ungroup() %>%\n",
    "      Classify_Text(\"note_value\", \"../src/dyslipidemia.json\") %>%\n",
    "      group_by(journey_key) %>%\n",
    "      mutate(\n",
    "        lipid_noted = case_when(\n",
    "          any(CLASSIFICATION == \"high\") ~ \"Present\",\n",
    "          all(!noted)                   ~ \"Missing\",\n",
    "          TRUE                          ~ \"Absent\"\n",
    "          )\n",
    "        ) %>%\n",
    "      select(\n",
    "        -noted, -note_value, -CLASSIFICATION, -CLASSIFICATION_REASON\n",
    "        ) %>%\n",
    "      ungroup() %>%\n",
    "      distinct() -> out_df\n",
    "    \n",
    "    return(out_df)\n",
    "}\n",
    "\n",
    "nslhd_enctrs %>%\n",
    "  join_notes_lipid(notes_ED.rds) %>%\n",
    "  select(Status, Gender, journey_key, lipid_noted) %>%\n",
    "  distinct() -> nslhd_journeys_lipid_notes"
   ]
  },
  {
   "cell_type": "code",
   "execution_count": 67,
   "metadata": {},
   "outputs": [
    {
     "data": {
      "text/html": [
       "<table>\n",
       "<caption>Source: ED notes</caption>\n",
       " <thead>\n",
       "  <tr>\n",
       "   <th style=\"text-align:left;\"> Hyperlipedemia </th>\n",
       "   <th style=\"text-align:right;\"> Present </th>\n",
       "   <th style=\"text-align:right;\"> Absent </th>\n",
       "   <th style=\"text-align:right;\"> Missing </th>\n",
       "   <th style=\"text-align:right;\"> Total </th>\n",
       "   <th style=\"text-align:right;\"> %Missing </th>\n",
       "   <th style=\"text-align:right;\"> %Present </th>\n",
       "   <th style=\"text-align:right;\"> %Error </th>\n",
       "  </tr>\n",
       " </thead>\n",
       "<tbody>\n",
       "  <tr>\n",
       "   <td style=\"text-align:left;\"> Female </td>\n",
       "   <td style=\"text-align:right;\"> 4 </td>\n",
       "   <td style=\"text-align:right;\"> 12 </td>\n",
       "   <td style=\"text-align:right;\"> 10 </td>\n",
       "   <td style=\"text-align:right;\"> 26 </td>\n",
       "   <td style=\"text-align:right;\"> 38.5 </td>\n",
       "   <td style=\"text-align:right;\"> 25.0 </td>\n",
       "   <td style=\"text-align:right;\"> 10.8 </td>\n",
       "  </tr>\n",
       "  <tr>\n",
       "   <td style=\"text-align:left;\"> Male </td>\n",
       "   <td style=\"text-align:right;\"> 8 </td>\n",
       "   <td style=\"text-align:right;\"> 41 </td>\n",
       "   <td style=\"text-align:right;\"> 28 </td>\n",
       "   <td style=\"text-align:right;\"> 77 </td>\n",
       "   <td style=\"text-align:right;\"> 36.4 </td>\n",
       "   <td style=\"text-align:right;\"> 16.3 </td>\n",
       "   <td style=\"text-align:right;\"> 5.3 </td>\n",
       "  </tr>\n",
       "  <tr>\n",
       "   <td style=\"text-align:left;\"> Total </td>\n",
       "   <td style=\"text-align:right;\"> 12 </td>\n",
       "   <td style=\"text-align:right;\"> 53 </td>\n",
       "   <td style=\"text-align:right;\"> 38 </td>\n",
       "   <td style=\"text-align:right;\"> 103 </td>\n",
       "   <td style=\"text-align:right;\"> 36.9 </td>\n",
       "   <td style=\"text-align:right;\"> 18.5 </td>\n",
       "   <td style=\"text-align:right;\"> 4.8 </td>\n",
       "  </tr>\n",
       "</tbody>\n",
       "</table>"
      ]
     },
     "metadata": {},
     "output_type": "display_data"
    }
   ],
   "source": [
    "nslhd_journeys_lipid_notes %>%\n",
    "  filter(Status == \"STEMI\") %>%\n",
    "  mutate(lipids = fct_relevel(lipid_noted, \"Present\")) %>%\n",
    "  count(Gender, lipids) %>%\n",
    "  spread(lipids, n, fill = 0) %>%\n",
    "  bind_rows(summarise_all(., funs(if(is.numeric(.)) sum(.) else \"Total\"))) %>%\n",
    "  mutate(\n",
    "    Total = rowSums(select_if(., is.numeric)),\n",
    "    `%Missing` = round(Missing/Total*100, 1),\n",
    "    `%Present` = round(Present/(Present + Absent)*100, 1),\n",
    "    `%Error` = round(sqrt(`%Present`*(100-`%Present`) / (Present + Absent)),1)\n",
    "  ) %>%\n",
    "  rename(Hyperlipedemia = Gender) %>%\n",
    "  kable(caption = \"Source: ED notes\") %>% \n",
    "  as.character() %>% display_html()"
   ]
  },
  {
   "cell_type": "markdown",
   "metadata": {},
   "source": [
    "According to the **ED notes**, the prevalence of hyperlipidemia in STEMI is **~18 percent** overall, with the highest rate in female STEMIs. This is approximately half the rate reported in CONCORDANCE and Vernon et al 2017."
   ]
  },
  {
   "cell_type": "markdown",
   "metadata": {},
   "source": [
    "### 3. Progress notes\n",
    "To be done"
   ]
  },
  {
   "cell_type": "markdown",
   "metadata": {},
   "source": [
    "### 4. Medications"
   ]
  },
  {
   "cell_type": "code",
   "execution_count": 69,
   "metadata": {},
   "outputs": [],
   "source": [
    "join_meds_lipid <- function(stemi_input, medicine_input) {\n",
    "# PARAMETERS\n",
    "# stemi_input: A dataframe with journey_key, encntr_key\n",
    "# medicine_input: A dataframe with encntr_key, medication_name and groups\n",
    "# RETURNS\n",
    "# a dataframe with added column \"medications_lipid\"\n",
    "  \n",
    "    source(\"../src/journeyr.r\")\n",
    "    \n",
    "    stemi_input %>%\n",
    "      mark_journeys_with_discharge_meds(medicine_input) %>% # from journeyr.r\n",
    "      mutate(has_meds = final_groups != \"NULL\") %>%         # from journeyr.r\n",
    "      select(journey_key, has_meds) -> episodes_with_medicines\n",
    "    \n",
    "    medicine_input %>%\n",
    "      filter(purrr::map_lgl(groups, ~any(stringr::str_detect(.x, \n",
    "        \"Statin|lipid\"\n",
    "        )))) %>%\n",
    "      select(encntr_key, medication_name) -> dyslipidemia_meds\n",
    "    \n",
    "    stemi_input %>%\n",
    "      left_join(dyslipidemia_meds, by = c(\"encntr_key\")) %>%\n",
    "      left_join(episodes_with_medicines, by = c(\"journey_key\")) %>%\n",
    "      group_by(journey_key) %>%\n",
    "      mutate(\n",
    "        lipid_meds = case_when(\n",
    "          any(!is.na(medication_name)) ~ \"Present\",\n",
    "          !has_meds ~ \"Missing\",\n",
    "          TRUE ~ \"Absent\"\n",
    "          )\n",
    "        ) %>%\n",
    "      select(-medication_name, -has_meds) %>%\n",
    "      ungroup() %>%\n",
    "      distinct() -> out_df\n",
    "    \n",
    "    return(out_df)\n",
    "}\n",
    "\n",
    "nslhd_enctrs %>%\n",
    "  join_meds_lipid(meds_spread.rds) %>%\n",
    "  select(Status, Gender, journey_key, lipid_meds) %>%\n",
    "  distinct() -> nslhd_journeys_lipid_meds"
   ]
  },
  {
   "cell_type": "code",
   "execution_count": 70,
   "metadata": {},
   "outputs": [
    {
     "data": {
      "text/html": [
       "<table>\n",
       "<caption>Source: Medications</caption>\n",
       " <thead>\n",
       "  <tr>\n",
       "   <th style=\"text-align:left;\"> Hyperlipedemia </th>\n",
       "   <th style=\"text-align:right;\"> Present </th>\n",
       "   <th style=\"text-align:right;\"> Absent </th>\n",
       "   <th style=\"text-align:right;\"> Total </th>\n",
       "   <th style=\"text-align:right;\"> %Missing </th>\n",
       "   <th style=\"text-align:right;\"> %Present </th>\n",
       "   <th style=\"text-align:right;\"> %Error </th>\n",
       "  </tr>\n",
       " </thead>\n",
       "<tbody>\n",
       "  <tr>\n",
       "   <td style=\"text-align:left;\"> Female </td>\n",
       "   <td style=\"text-align:right;\"> 19 </td>\n",
       "   <td style=\"text-align:right;\"> 7 </td>\n",
       "   <td style=\"text-align:right;\"> 26 </td>\n",
       "   <td style=\"text-align:right;\"> 0 </td>\n",
       "   <td style=\"text-align:right;\"> 73.1 </td>\n",
       "   <td style=\"text-align:right;\"> 8.7 </td>\n",
       "  </tr>\n",
       "  <tr>\n",
       "   <td style=\"text-align:left;\"> Male </td>\n",
       "   <td style=\"text-align:right;\"> 50 </td>\n",
       "   <td style=\"text-align:right;\"> 27 </td>\n",
       "   <td style=\"text-align:right;\"> 77 </td>\n",
       "   <td style=\"text-align:right;\"> 0 </td>\n",
       "   <td style=\"text-align:right;\"> 64.9 </td>\n",
       "   <td style=\"text-align:right;\"> 5.4 </td>\n",
       "  </tr>\n",
       "  <tr>\n",
       "   <td style=\"text-align:left;\"> Total </td>\n",
       "   <td style=\"text-align:right;\"> 69 </td>\n",
       "   <td style=\"text-align:right;\"> 34 </td>\n",
       "   <td style=\"text-align:right;\"> 103 </td>\n",
       "   <td style=\"text-align:right;\"> 0 </td>\n",
       "   <td style=\"text-align:right;\"> 67.0 </td>\n",
       "   <td style=\"text-align:right;\"> 4.6 </td>\n",
       "  </tr>\n",
       "</tbody>\n",
       "</table>"
      ]
     },
     "metadata": {},
     "output_type": "display_data"
    }
   ],
   "source": [
    "nslhd_journeys_lipid_meds %>%\n",
    "  filter(Status == \"STEMI\") %>%\n",
    "  mutate(lipids = fct_relevel(lipid_meds, \"Present\")) %>%\n",
    "  count(Gender, lipids) %>%\n",
    "  spread(lipids, n, fill = 0) %>%\n",
    "  bind_rows(summarise_all(., funs(if(is.numeric(.)) sum(.) else \"Total\"))) %>%\n",
    "  mutate(\n",
    "    Total = rowSums(select_if(., is.numeric)),\n",
    "    `%Missing` = Total - (Present + Absent),\n",
    "    `%Present` = round(Present/(Present + Absent)*100, 1),\n",
    "    `%Error` = round(sqrt(`%Present`*(100-`%Present`) / (Present + Absent)),1)\n",
    "  ) %>%\n",
    "  rename(Hyperlipedemia = Gender) %>%\n",
    "  kable(caption = \"Source: Medications\") %>% \n",
    "  as.character() %>% display_html()"
   ]
  },
  {
   "cell_type": "markdown",
   "metadata": {},
   "source": [
    "According to **medication** sources, the prevalence of hyperlipidemia is **67 percent** in STEMI, which is higher than CONCORDANCE (~43 percent) and Vernon *et al* (41 percent). "
   ]
  },
  {
   "cell_type": "markdown",
   "metadata": {},
   "source": [
    "### 5. Cholesteral results"
   ]
  },
  {
   "cell_type": "code",
   "execution_count": 76,
   "metadata": {},
   "outputs": [],
   "source": [
    "join_pathology_lipid <- function(stemi_input, pathology_input) {\n",
    "# PARAMETERS\n",
    "# stemi_input: A dataframe with journey_key, encntr_key\n",
    "# pathology_input: A dataframe with encntr_key, result_tag, result_display\n",
    "# & normal_high, normal_low, result_start_dttm\n",
    "# RETURNS\n",
    "# a dataframe with added columns \"RESULT_DISPLAY\", \"RESULT_TAG\", \"abnormal\"\n",
    "  \n",
    "  lipid_tests <- c(\"Cholesterol\", \"LDL Cholesterol\", \"HDL Cholesterol\", \"Triglycerides\")\n",
    "  \n",
    "  pathology_input %>%\n",
    "    filter(result_tag != \"Error\") %>%\n",
    "    # select only our biochem tests of interest\n",
    "    filter(result_display %in% lipid_tests) %>%\n",
    "    mutate_at(vars(result_tag, normal_low, normal_high), extract_numeric) %>%\n",
    "    select(\n",
    "      encntr_key, result_start_dttm, result_display, result_tag, normal_low, normal_high\n",
    "    ) %>%\n",
    "    mutate(\n",
    "      normal_low = replace_na(normal_low, 0),\n",
    "      normal_high = ifelse(is.na(normal_high), Inf, normal_high)\n",
    "    ) -> lipid_results\n",
    "  \n",
    "  suppressWarnings(\n",
    "    \n",
    "  stemi_input %>%\n",
    "    left_join(lipid_results, by = \"encntr_key\") %>%\n",
    "    group_by(journey_key, result_display) %>%\n",
    "    mutate(\n",
    "      first_test = result_start_dttm == min(result_start_dttm, na.rm = TRUE),\n",
    "      test_abnormal = case_when(\n",
    "        result_display != \"HDL Cholesterol\" & result_tag > normal_high ~ TRUE,\n",
    "        result_display == \"HDL Cholesterol\" & result_tag < normal_low ~ TRUE,\n",
    "        is.na(result_tag) ~ NA,\n",
    "        TRUE ~ FALSE)\n",
    "      ) %>% \n",
    "    filter(first_test | is.na(first_test)) %>% # Keep missing records to count\n",
    "    select(-result_start_dttm, -normal_low, -normal_high, -first_test) %>%\n",
    "    ungroup()\n",
    "    ) -> out_df\n",
    "}\n",
    "\n",
    "nslhd_enctrs %>%\n",
    "  select(Status, Gender, journey_key, encntr_key) %>%\n",
    "  join_pathology_lipid(pathology_result.rds) %>%\n",
    "  group_by(journey_key, Status, Gender) %>%\n",
    "  summarise(\n",
    "    lipid_abnormal = case_when(\n",
    "      any(test_abnormal, na.rm = TRUE) ~ \"Present\",\n",
    "      all(is.na(test_abnormal))        ~ \"Missing\",\n",
    "      TRUE                             ~ \"Absent\"\n",
    "    )\n",
    "  ) %>%\n",
    "  ungroup() -> nslhd_journeys_lipid_abnorm"
   ]
  },
  {
   "cell_type": "code",
   "execution_count": 82,
   "metadata": {},
   "outputs": [
    {
     "data": {
      "text/html": [
       "<table>\n",
       "<caption>Source: Cholesterol (pathology)</caption>\n",
       " <thead>\n",
       "  <tr>\n",
       "   <th style=\"text-align:left;\"> Hyperlipedemia </th>\n",
       "   <th style=\"text-align:right;\"> Present </th>\n",
       "   <th style=\"text-align:right;\"> Absent </th>\n",
       "   <th style=\"text-align:right;\"> Missing </th>\n",
       "   <th style=\"text-align:right;\"> Total </th>\n",
       "   <th style=\"text-align:right;\"> %Missing </th>\n",
       "   <th style=\"text-align:right;\"> %Present </th>\n",
       "   <th style=\"text-align:right;\"> %Error </th>\n",
       "  </tr>\n",
       " </thead>\n",
       "<tbody>\n",
       "  <tr>\n",
       "   <td style=\"text-align:left;\"> Female </td>\n",
       "   <td style=\"text-align:right;\"> 7 </td>\n",
       "   <td style=\"text-align:right;\"> 10 </td>\n",
       "   <td style=\"text-align:right;\"> 9 </td>\n",
       "   <td style=\"text-align:right;\"> 26 </td>\n",
       "   <td style=\"text-align:right;\"> 34.6 </td>\n",
       "   <td style=\"text-align:right;\"> 41.2 </td>\n",
       "   <td style=\"text-align:right;\"> 11.9 </td>\n",
       "  </tr>\n",
       "  <tr>\n",
       "   <td style=\"text-align:left;\"> Male </td>\n",
       "   <td style=\"text-align:right;\"> 34 </td>\n",
       "   <td style=\"text-align:right;\"> 19 </td>\n",
       "   <td style=\"text-align:right;\"> 24 </td>\n",
       "   <td style=\"text-align:right;\"> 77 </td>\n",
       "   <td style=\"text-align:right;\"> 31.2 </td>\n",
       "   <td style=\"text-align:right;\"> 64.2 </td>\n",
       "   <td style=\"text-align:right;\"> 6.6 </td>\n",
       "  </tr>\n",
       "  <tr>\n",
       "   <td style=\"text-align:left;\"> Total </td>\n",
       "   <td style=\"text-align:right;\"> 41 </td>\n",
       "   <td style=\"text-align:right;\"> 29 </td>\n",
       "   <td style=\"text-align:right;\"> 33 </td>\n",
       "   <td style=\"text-align:right;\"> 103 </td>\n",
       "   <td style=\"text-align:right;\"> 32.0 </td>\n",
       "   <td style=\"text-align:right;\"> 58.6 </td>\n",
       "   <td style=\"text-align:right;\"> 5.9 </td>\n",
       "  </tr>\n",
       "</tbody>\n",
       "</table>"
      ]
     },
     "metadata": {},
     "output_type": "display_data"
    }
   ],
   "source": [
    "nslhd_journeys_lipid_abnorm %>%\n",
    "  filter(Status == \"STEMI\") %>%\n",
    "  mutate(lipids = fct_relevel(lipid_abnormal, \"Present\")) %>%\n",
    "  count(Gender, lipids) %>%\n",
    "  spread(lipids, n, fill = 0) %>%\n",
    "  bind_rows(summarise_all(., funs(if(is.numeric(.)) sum(.) else \"Total\"))) %>%\n",
    "  mutate(\n",
    "    Total = rowSums(select_if(., is.numeric)),\n",
    "    `%Missing` = round(Missing/Total*100, 1),\n",
    "    `%Present` = round(Present/(Present + Absent)*100, 1),\n",
    "    `%Error` = round(sqrt(`%Present`*(100-`%Present`) / (Present + Absent)),1)\n",
    "  ) %>%\n",
    "  rename(Hyperlipedemia = Gender) %>%\n",
    "  kable(caption = \"Source: Cholesterol (pathology)\") %>% \n",
    "  as.character() %>% display_html()"
   ]
  },
  {
   "cell_type": "markdown",
   "metadata": {},
   "source": [
    "According to **pathology** sources, the prevalence of hyperlipidemia is **~59 percent** in STEMI, which is higher than CONCORDANCE (~43 percent) and Vernon et al 2017 (41 percent). "
   ]
  },
  {
   "cell_type": "markdown",
   "metadata": {},
   "source": [
    "### Hyperlipidemia by primary sources"
   ]
  },
  {
   "cell_type": "code",
   "execution_count": 81,
   "metadata": {},
   "outputs": [
    {
     "name": "stderr",
     "output_type": "stream",
     "text": [
      "Joining, by = c(\"journey_key\", \"Status\", \"Gender\")\n",
      "Joining, by = c(\"journey_key\", \"Status\", \"Gender\")\n"
     ]
    },
    {
     "data": {
      "text/html": [
       "<table>\n",
       "<caption>Source: All primary</caption>\n",
       " <thead>\n",
       "  <tr>\n",
       "   <th style=\"text-align:left;\"> Hyperlipidemia </th>\n",
       "   <th style=\"text-align:right;\"> Present </th>\n",
       "   <th style=\"text-align:right;\"> Absent </th>\n",
       "   <th style=\"text-align:right;\"> Total </th>\n",
       "   <th style=\"text-align:right;\"> %Missing </th>\n",
       "   <th style=\"text-align:right;\"> %Present </th>\n",
       "   <th style=\"text-align:right;\"> %Error </th>\n",
       "  </tr>\n",
       " </thead>\n",
       "<tbody>\n",
       "  <tr>\n",
       "   <td style=\"text-align:left;\"> Female </td>\n",
       "   <td style=\"text-align:right;\"> 19 </td>\n",
       "   <td style=\"text-align:right;\"> 7 </td>\n",
       "   <td style=\"text-align:right;\"> 26 </td>\n",
       "   <td style=\"text-align:right;\"> 0 </td>\n",
       "   <td style=\"text-align:right;\"> 73.1 </td>\n",
       "   <td style=\"text-align:right;\"> 8.7 </td>\n",
       "  </tr>\n",
       "  <tr>\n",
       "   <td style=\"text-align:left;\"> Male </td>\n",
       "   <td style=\"text-align:right;\"> 56 </td>\n",
       "   <td style=\"text-align:right;\"> 21 </td>\n",
       "   <td style=\"text-align:right;\"> 77 </td>\n",
       "   <td style=\"text-align:right;\"> 0 </td>\n",
       "   <td style=\"text-align:right;\"> 72.7 </td>\n",
       "   <td style=\"text-align:right;\"> 5.1 </td>\n",
       "  </tr>\n",
       "  <tr>\n",
       "   <td style=\"text-align:left;\"> Total </td>\n",
       "   <td style=\"text-align:right;\"> 75 </td>\n",
       "   <td style=\"text-align:right;\"> 28 </td>\n",
       "   <td style=\"text-align:right;\"> 103 </td>\n",
       "   <td style=\"text-align:right;\"> 0 </td>\n",
       "   <td style=\"text-align:right;\"> 72.8 </td>\n",
       "   <td style=\"text-align:right;\"> 4.4 </td>\n",
       "  </tr>\n",
       "</tbody>\n",
       "</table>"
      ]
     },
     "metadata": {},
     "output_type": "display_data"
    }
   ],
   "source": [
    "# Combining all primary sources\n",
    "nslhd_journeys_lipid_abnorm %>%\n",
    "  left_join(nslhd_journeys_lipid_meds) %>%\n",
    "  left_join(nslhd_journeys_lipid_notes) %>%\n",
    "  mutate(\n",
    "    hyperlipidemia = case_when(\n",
    "      lipid_abnormal == \"Present\" | \n",
    "      lipid_meds     == \"Present\" | \n",
    "      lipid_noted    == \"Present\" ~ \"Present\",\n",
    "      lipid_abnormal == \"Missing\" & \n",
    "      lipid_meds     == \"Missing\" & \n",
    "      lipid_noted    == \"Missing\" ~ \"Missing\",\n",
    "      TRUE                        ~ \"Absent\"\n",
    "    )\n",
    "  ) %>%\n",
    "  select(Status, Gender, journey_key, hyperlipidemia) %>%\n",
    "  distinct() %>%\n",
    "  filter(Status == \"STEMI\") %>%\n",
    "  mutate(hyperlipidemia = fct_relevel(hyperlipidemia, \"Present\")) %>%\n",
    "  count(Gender, hyperlipidemia) %>%\n",
    "  spread(hyperlipidemia, n) %>% \n",
    "  bind_rows(summarise_all(., funs(if(is.numeric(.)) sum(.) else \"Total\"))) %>%\n",
    "  mutate(\n",
    "    Total = rowSums(select_if(., is.numeric)),\n",
    "    `%Missing` = Total - (Present + Absent),\n",
    "    `%Present` = round(Present/(Present + Absent)*100, 1),\n",
    "    `%Error` = round(sqrt(`%Present`*(100-`%Present`) / (Present + Absent)),1)\n",
    "  ) %>%\n",
    "  rename(Hyperlipidemia = Gender) %>%\n",
    "  kable(caption = \"Source: All primary\") %>% \n",
    "  as.character() %>% display_html()"
   ]
  },
  {
   "cell_type": "markdown",
   "metadata": {},
   "source": [
    "The prevalence of hyperlipidemia is **~73 percent** in STEMI, which is almost twice as high as CONCORDANCE (~43 percent) and Vernon *et al* (41 percent)."
   ]
  },
  {
   "cell_type": "markdown",
   "metadata": {},
   "source": [
    "## Smoking\n",
    "Smoking is indicated in the social history table. It is also recorded in ED notes as free text under risk factors, personal and social history.\n",
    "\n",
    "### 1. ED notes"
   ]
  },
  {
   "cell_type": "code",
   "execution_count": 3,
   "metadata": {},
   "outputs": [
    {
     "data": {
      "text/html": [
       "<table>\n",
       "<thead><tr><th scope=col>Status</th><th scope=col>Gender</th><th scope=col>Total</th><th scope=col>Smoker</th><th scope=col>Ex</th><th scope=col>Non</th><th scope=col>Missing</th><th scope=col>%Missing</th><th scope=col>%Smoker</th></tr></thead>\n",
       "<tbody>\n",
       "\t<tr><td>STEMI </td><td>Female</td><td> 26   </td><td>0     </td><td> 1    </td><td> 1    </td><td> 24   </td><td>92.3  </td><td> 0.0  </td></tr>\n",
       "\t<tr><td>STEMI </td><td>Male  </td><td> 77   </td><td>0     </td><td> 1    </td><td> 7    </td><td> 69   </td><td>89.6  </td><td> 0.0  </td></tr>\n",
       "\t<tr><td>NSTEMI</td><td>Female</td><td>113   </td><td>3     </td><td> 2    </td><td> 7    </td><td>101   </td><td>89.4  </td><td>25.0  </td></tr>\n",
       "\t<tr><td>NSTEMI</td><td>Male  </td><td>149   </td><td>5     </td><td>12    </td><td>11    </td><td>121   </td><td>81.2  </td><td>17.9  </td></tr>\n",
       "</tbody>\n",
       "</table>\n"
      ],
      "text/latex": [
       "\\begin{tabular}{r|lllllllll}\n",
       " Status & Gender & Total & Smoker & Ex & Non & Missing & \\%Missing & \\%Smoker\\\\\n",
       "\\hline\n",
       "\t STEMI  & Female &  26    & 0      &  1     &  1     &  24    & 92.3   &  0.0  \\\\\n",
       "\t STEMI  & Male   &  77    & 0      &  1     &  7     &  69    & 89.6   &  0.0  \\\\\n",
       "\t NSTEMI & Female & 113    & 3      &  2     &  7     & 101    & 89.4   & 25.0  \\\\\n",
       "\t NSTEMI & Male   & 149    & 5      & 12     & 11     & 121    & 81.2   & 17.9  \\\\\n",
       "\\end{tabular}\n"
      ],
      "text/markdown": [
       "\n",
       "| Status | Gender | Total | Smoker | Ex | Non | Missing | %Missing | %Smoker |\n",
       "|---|---|---|---|---|---|---|---|---|\n",
       "| STEMI  | Female |  26    | 0      |  1     |  1     |  24    | 92.3   |  0.0   |\n",
       "| STEMI  | Male   |  77    | 0      |  1     |  7     |  69    | 89.6   |  0.0   |\n",
       "| NSTEMI | Female | 113    | 3      |  2     |  7     | 101    | 89.4   | 25.0   |\n",
       "| NSTEMI | Male   | 149    | 5      | 12     | 11     | 121    | 81.2   | 17.9   |\n",
       "\n"
      ],
      "text/plain": [
       "  Status Gender Total Smoker Ex Non Missing %Missing %Smoker\n",
       "1 STEMI  Female  26   0       1  1   24     92.3      0.0   \n",
       "2 STEMI  Male    77   0       1  7   69     89.6      0.0   \n",
       "3 NSTEMI Female 113   3       2  7  101     89.4     25.0   \n",
       "4 NSTEMI Male   149   5      12 11  121     81.2     17.9   "
      ]
     },
     "metadata": {},
     "output_type": "display_data"
    }
   ],
   "source": [
    "join_history_smoke <- function(stemi_input, history_input) {\n",
    "# PARAMETERS\n",
    "# stemi_input: A dataframe with person_key\n",
    "# history_input: A dataframe with person_key, response, response_type \n",
    "# RETURNS\n",
    "# a dataframe with one added column \"history_smoke\"\n",
    "  \n",
    "  smoke_strings = c(\"Smoker\", \"Non-smoker\", \"Ex-smoker\")\n",
    "    \n",
    "  history_input %>%\n",
    "    mutate(response = as.character(response)) %>%\n",
    "    filter(response_type == \"ALPHA\", response %in% smoke_strings) %>%\n",
    "    select(person_key, response) %>%\n",
    "    distinct() -> smoke.tb\n",
    "\n",
    "  stemi_input %>%\n",
    "    left_join(smoke.tb, by = \"person_key\") %>%\n",
    "    mutate(\n",
    "      history_smoke = recode(\n",
    "        response,\n",
    "        \"Ex-smoker\" = \"Ex\", \n",
    "        \"Non-smoker\" = \"Non\", \n",
    "        .missing = \"Missing\")\n",
    "      ) %>%\n",
    "    select(-response) -> out_df\n",
    "    \n",
    "  return(out_df)\n",
    "}\n",
    "\n",
    "nslhd_enctrs %>%\n",
    "  select(Status, Gender, journey_key, person_key) %>%\n",
    "  distinct() %>%\n",
    "  join_history_smoke(patient_history.rds) %>%\n",
    "  select(Status, Gender, journey_key, history_smoke) %>%\n",
    "  distinct() %>% \n",
    "  count(Status, Gender, history_smoke) %>%\n",
    "  spread(history_smoke, n, fill = 0) %>%\n",
    "  mutate(\n",
    "    Total = Smoker + Ex + Non + Missing,\n",
    "    \"%Missing\" = round(Missing/Total*100, 1),\n",
    "    \"%Smoker\"  = round(Smoker/(Smoker + Ex + Non)*100, 1)\n",
    "    ) %>%\n",
    "  select(Status, Gender, Total, Smoker, Ex, Non, Missing, everything())"
   ]
  },
  {
   "cell_type": "code",
   "execution_count": 4,
   "metadata": {},
   "outputs": [
    {
     "data": {
      "text/html": [
       "<table>\n",
       "<thead><tr><th scope=col>Status</th><th scope=col>Gender</th><th scope=col>Total</th><th scope=col>Smoker</th><th scope=col>Ex</th><th scope=col>Non</th><th scope=col>Missing</th><th scope=col>%Missing</th><th scope=col>%Smoker</th></tr></thead>\n",
       "<tbody>\n",
       "\t<tr><td>STEMI </td><td>Female</td><td> 26   </td><td>1     </td><td> 3    </td><td>12    </td><td>10    </td><td>38.5  </td><td> 6.2  </td></tr>\n",
       "\t<tr><td>STEMI </td><td>Male  </td><td> 77   </td><td>7     </td><td> 2    </td><td>40    </td><td>28    </td><td>36.4  </td><td>14.3  </td></tr>\n",
       "\t<tr><td>NSTEMI</td><td>Female</td><td>113   </td><td>6     </td><td> 5    </td><td>88    </td><td>14    </td><td>12.4  </td><td> 6.1  </td></tr>\n",
       "\t<tr><td>NSTEMI</td><td>Male  </td><td>149   </td><td>6     </td><td>21    </td><td>89    </td><td>33    </td><td>22.1  </td><td> 5.2  </td></tr>\n",
       "</tbody>\n",
       "</table>\n"
      ],
      "text/latex": [
       "\\begin{tabular}{r|lllllllll}\n",
       " Status & Gender & Total & Smoker & Ex & Non & Missing & \\%Missing & \\%Smoker\\\\\n",
       "\\hline\n",
       "\t STEMI  & Female &  26    & 1      &  3     & 12     & 10     & 38.5   &  6.2  \\\\\n",
       "\t STEMI  & Male   &  77    & 7      &  2     & 40     & 28     & 36.4   & 14.3  \\\\\n",
       "\t NSTEMI & Female & 113    & 6      &  5     & 88     & 14     & 12.4   &  6.1  \\\\\n",
       "\t NSTEMI & Male   & 149    & 6      & 21     & 89     & 33     & 22.1   &  5.2  \\\\\n",
       "\\end{tabular}\n"
      ],
      "text/markdown": [
       "\n",
       "| Status | Gender | Total | Smoker | Ex | Non | Missing | %Missing | %Smoker |\n",
       "|---|---|---|---|---|---|---|---|---|\n",
       "| STEMI  | Female |  26    | 1      |  3     | 12     | 10     | 38.5   |  6.2   |\n",
       "| STEMI  | Male   |  77    | 7      |  2     | 40     | 28     | 36.4   | 14.3   |\n",
       "| NSTEMI | Female | 113    | 6      |  5     | 88     | 14     | 12.4   |  6.1   |\n",
       "| NSTEMI | Male   | 149    | 6      | 21     | 89     | 33     | 22.1   |  5.2   |\n",
       "\n"
      ],
      "text/plain": [
       "  Status Gender Total Smoker Ex Non Missing %Missing %Smoker\n",
       "1 STEMI  Female  26   1       3 12  10      38.5      6.2   \n",
       "2 STEMI  Male    77   7       2 40  28      36.4     14.3   \n",
       "3 NSTEMI Female 113   6       5 88  14      12.4      6.1   \n",
       "4 NSTEMI Male   149   6      21 89  33      22.1      5.2   "
      ]
     },
     "metadata": {},
     "output_type": "display_data"
    }
   ],
   "source": [
    "join_notes_smoker <- function(stemi_input, notes_input) {\n",
    "# PARAMETERS\n",
    "# stemi_input: A dataframe with JOURNEY_KEY, ENCNTR_KEY\n",
    "# notes_input: A dataframe with ENCNTR_KEY, note_value \n",
    "# RETURNS\n",
    "# a dataframe with one added column \"notes_smoker\"\n",
    "      \n",
    "  notes_input %>%\n",
    "    select(encntr_key, note_value) %>%\n",
    "    as_tibble() -> notes_table\n",
    "    \n",
    "  source(\"../src/CLACK/R/CLACK.R\")\n",
    "\n",
    "  stemi_input %>%\n",
    "    left_join(notes_table, by = \"encntr_key\") %>%\n",
    "    group_by(journey_key) %>%\n",
    "    mutate(noted = any(!is.na(note_value))) %>%\n",
    "    ungroup() %>%\n",
    "    Classify_Text(\"note_value\", \"../src/smokers.json\") %>%\n",
    "    group_by(journey_key) %>%\n",
    "    mutate(\n",
    "      notes_smoker = case_when(\n",
    "        any(str_detect(CLASSIFICATION_REASON, \"ex-smoker\"))  ~ \"Ex\",\n",
    "        any(str_detect(CLASSIFICATION_REASON, \"non-smoker\")) ~ \"Non\",\n",
    "        any(str_detect(CLASSIFICATION_REASON, \"smoker\"))     ~ \"Smoker\",\n",
    "        all(!noted)                                          ~ \"Missing\",\n",
    "        TRUE                                                 ~ \"Non\"\n",
    "        )\n",
    "      ) %>%\n",
    "    select(\n",
    "      -noted, -note_value, -CLASSIFICATION, -CLASSIFICATION_REASON\n",
    "      ) %>%\n",
    "    ungroup() %>%\n",
    "    distinct() -> out_df\n",
    "    \n",
    "  return(out_df)\n",
    "}\n",
    "\n",
    "nslhd_enctrs %>%\n",
    "  select(Status, Gender, journey_key, encntr_key) %>%\n",
    "  distinct() %>%\n",
    "  join_notes_smoker(notes_ED.rds) %>%\n",
    "  select(Status, Gender, journey_key, notes_smoker) %>%\n",
    "  distinct() %>% \n",
    "  count(Status, Gender, notes_smoker) %>%\n",
    "  spread(notes_smoker, n, fill = 0) %>%\n",
    "  mutate(\n",
    "    Total = Smoker + Non + Missing + Ex,\n",
    "    \"%Missing\" = round(Missing/Total*100, 1),\n",
    "    \"%Smoker\"  = round(Smoker/(Smoker + Non + Ex)*100, 1)\n",
    "    ) %>%\n",
    "  select(Status, Gender, Total, Smoker, Ex, Non, Missing, everything())"
   ]
  },
  {
   "cell_type": "code",
   "execution_count": 5,
   "metadata": {},
   "outputs": [],
   "source": [
    "nslhd_enctrs %>%\n",
    "  select(Status, Gender, journey_key, encntr_key, person_key) %>%\n",
    "  distinct() %>%\n",
    "  join_history_smoke(patient_history.rds) %>%\n",
    "  join_notes_smoker(notes_ED.rds) -> nslhd_smoker_journeys"
   ]
  },
  {
   "cell_type": "markdown",
   "metadata": {},
   "source": [
    "#### Results\n",
    "We join the smoking table and the journeys table and count the number in each group"
   ]
  },
  {
   "cell_type": "code",
   "execution_count": 6,
   "metadata": {},
   "outputs": [
    {
     "data": {
      "text/html": [
       "<table>\n",
       "<thead><tr><th scope=col>Status</th><th scope=col>Gender</th><th scope=col>Total</th><th scope=col>Smoker</th><th scope=col>Ex</th><th scope=col>Non</th><th scope=col>Missing</th><th scope=col>%Missing</th><th scope=col>%Smoker</th></tr></thead>\n",
       "<tbody>\n",
       "\t<tr><td>STEMI </td><td>Female</td><td> 26   </td><td>1     </td><td> 4    </td><td>12    </td><td> 9    </td><td>34.6  </td><td> 5.9  </td></tr>\n",
       "\t<tr><td>STEMI </td><td>Male  </td><td> 77   </td><td>7     </td><td> 3    </td><td>42    </td><td>25    </td><td>32.5  </td><td>13.5  </td></tr>\n",
       "\t<tr><td>NSTEMI</td><td>Female</td><td>113   </td><td>8     </td><td> 7    </td><td>84    </td><td>14    </td><td>12.4  </td><td> 8.1  </td></tr>\n",
       "\t<tr><td>NSTEMI</td><td>Male  </td><td>149   </td><td>9     </td><td>30    </td><td>86    </td><td>24    </td><td>16.1  </td><td> 7.2  </td></tr>\n",
       "</tbody>\n",
       "</table>\n"
      ],
      "text/latex": [
       "\\begin{tabular}{r|lllllllll}\n",
       " Status & Gender & Total & Smoker & Ex & Non & Missing & \\%Missing & \\%Smoker\\\\\n",
       "\\hline\n",
       "\t STEMI  & Female &  26    & 1      &  4     & 12     &  9     & 34.6   &  5.9  \\\\\n",
       "\t STEMI  & Male   &  77    & 7      &  3     & 42     & 25     & 32.5   & 13.5  \\\\\n",
       "\t NSTEMI & Female & 113    & 8      &  7     & 84     & 14     & 12.4   &  8.1  \\\\\n",
       "\t NSTEMI & Male   & 149    & 9      & 30     & 86     & 24     & 16.1   &  7.2  \\\\\n",
       "\\end{tabular}\n"
      ],
      "text/markdown": [
       "\n",
       "| Status | Gender | Total | Smoker | Ex | Non | Missing | %Missing | %Smoker |\n",
       "|---|---|---|---|---|---|---|---|---|\n",
       "| STEMI  | Female |  26    | 1      |  4     | 12     |  9     | 34.6   |  5.9   |\n",
       "| STEMI  | Male   |  77    | 7      |  3     | 42     | 25     | 32.5   | 13.5   |\n",
       "| NSTEMI | Female | 113    | 8      |  7     | 84     | 14     | 12.4   |  8.1   |\n",
       "| NSTEMI | Male   | 149    | 9      | 30     | 86     | 24     | 16.1   |  7.2   |\n",
       "\n"
      ],
      "text/plain": [
       "  Status Gender Total Smoker Ex Non Missing %Missing %Smoker\n",
       "1 STEMI  Female  26   1       4 12   9      34.6      5.9   \n",
       "2 STEMI  Male    77   7       3 42  25      32.5     13.5   \n",
       "3 NSTEMI Female 113   8       7 84  14      12.4      8.1   \n",
       "4 NSTEMI Male   149   9      30 86  24      16.1      7.2   "
      ]
     },
     "metadata": {},
     "output_type": "display_data"
    }
   ],
   "source": [
    "nslhd_smoker_journeys %>%\n",
    "  mutate(Smoker = case_when(\n",
    "    history_smoke == \"Smoker\" | notes_smoker == \"Smoker\" ~ \"Smoker\",\n",
    "    history_smoke == \"Ex\"     | notes_smoker == \"Ex\"     ~ \"Ex\",\n",
    "    notes_smoker ==  \"Missing\"                           ~ history_smoke,\n",
    "    history_smoke == \"Missing\"                           ~ notes_smoker,\n",
    "    TRUE                                                 ~ \"Non\")\n",
    "    ) %>% \n",
    "  select(Status, Gender, journey_key, Smoker) %>%\n",
    "  distinct() %>%\n",
    "  count(Status, Gender, Smoker) %>%\n",
    "  spread(Smoker, n, fill = 0) %>%\n",
    "  mutate(\n",
    "    Total = Smoker + Ex + Non + Missing,\n",
    "    \"%Missing\" = round(Missing/Total*100, 1),\n",
    "    \"%Smoker\"  = round(Smoker/(Smoker + Ex + Non)*100, 1)\n",
    "    ) %>%\n",
    "  select(Status, Gender, Total, Smoker, Ex, Non, Missing, everything())"
   ]
  },
  {
   "cell_type": "markdown",
   "metadata": {},
   "source": [
    "#### Conclusions\n",
    "Male STEMIs have the highest smoking risk. Our estimate of current smoking prevalence among STEMI is much lower than CONCORDANCE (~40 percent) or Vernon et al (28 percent). However, approximately **~35 percent** of STEMI episodes are missing smoking data (ED notes or social history). "
   ]
  },
  {
   "cell_type": "markdown",
   "metadata": {},
   "source": [
    "## Obesity\n",
    "Obesity is normally defined as a BMI value:\n",
    "- \"Healthy\" < 25 m/kg^2\n",
    "- \"Overweight\" between 25 and 30 m/kg^2\n",
    "- \"Obese\" > 30 m/kg^2\n",
    "\n",
    "We can check:\n",
    "1. ICD10 codes (`E66|U78.1`)\n",
    "2. BMI records (Forms table)"
   ]
  },
  {
   "cell_type": "markdown",
   "metadata": {},
   "source": [
    "### 1. ICD10 codes"
   ]
  },
  {
   "cell_type": "code",
   "execution_count": 73,
   "metadata": {},
   "outputs": [
    {
     "data": {
      "text/html": [
       "<table>\n",
       "<thead><tr><th scope=col>Status</th><th scope=col>Gender</th><th scope=col>journey_key</th><th scope=col>obesity_icd10</th></tr></thead>\n",
       "<tbody>\n",
       "\t<tr><td>NSTEMI </td><td>Male   </td><td>305443 </td><td>Present</td></tr>\n",
       "\t<tr><td>STEMI  </td><td>Male   </td><td>218722 </td><td>Absent </td></tr>\n",
       "\t<tr><td>STEMI  </td><td>Male   </td><td>309949 </td><td>Absent </td></tr>\n",
       "\t<tr><td>STEMI  </td><td>Female </td><td>134204 </td><td>Absent </td></tr>\n",
       "\t<tr><td>STEMI  </td><td>Female </td><td>312530 </td><td>Absent </td></tr>\n",
       "\t<tr><td>NSTEMI </td><td>Male   </td><td> 83931 </td><td>Present</td></tr>\n",
       "</tbody>\n",
       "</table>\n"
      ],
      "text/latex": [
       "\\begin{tabular}{r|llll}\n",
       " Status & Gender & journey\\_key & obesity\\_icd10\\\\\n",
       "\\hline\n",
       "\t NSTEMI  & Male    & 305443  & Present\\\\\n",
       "\t STEMI   & Male    & 218722  & Absent \\\\\n",
       "\t STEMI   & Male    & 309949  & Absent \\\\\n",
       "\t STEMI   & Female  & 134204  & Absent \\\\\n",
       "\t STEMI   & Female  & 312530  & Absent \\\\\n",
       "\t NSTEMI  & Male    &  83931  & Present\\\\\n",
       "\\end{tabular}\n"
      ],
      "text/markdown": [
       "\n",
       "| Status | Gender | journey_key | obesity_icd10 |\n",
       "|---|---|---|---|\n",
       "| NSTEMI  | Male    | 305443  | Present |\n",
       "| STEMI   | Male    | 218722  | Absent  |\n",
       "| STEMI   | Male    | 309949  | Absent  |\n",
       "| STEMI   | Female  | 134204  | Absent  |\n",
       "| STEMI   | Female  | 312530  | Absent  |\n",
       "| NSTEMI  | Male    |  83931  | Present |\n",
       "\n"
      ],
      "text/plain": [
       "  Status Gender journey_key obesity_icd10\n",
       "1 NSTEMI Male   305443      Present      \n",
       "2 STEMI  Male   218722      Absent       \n",
       "3 STEMI  Male   309949      Absent       \n",
       "4 STEMI  Female 134204      Absent       \n",
       "5 STEMI  Female 312530      Absent       \n",
       "6 NSTEMI Male    83931      Present      "
      ]
     },
     "metadata": {},
     "output_type": "display_data"
    }
   ],
   "source": [
    "join_icd10_obesity <- function(stemi_input, icd10_input) {\n",
    "      \n",
    "  diagnosis <- icd10_input %>%\n",
    "    select(encntr_key, d_present_on_admit_disp, \n",
    "           display_identifier, source_string)\n",
    "    \n",
    "    \n",
    "  stemi_input %>%\n",
    "    left_join(diagnosis, by = \"encntr_key\") %>% \n",
    "    group_by(journey_key) %>%\n",
    "    mutate(\n",
    "    # Define diabetes pre-existing or new conditions\n",
    "    obesity_icd10 = case_when(\n",
    "      any(str_detect(display_identifier, \"E66|U78.1\")) ~ \"Present\",\n",
    "      all(is.na(source_string))                        ~ \"Missing\",\n",
    "      TRUE                                             ~ \"Absent\"\n",
    "      )\n",
    "    ) %>% \n",
    "    select(-d_present_on_admit_disp, -display_identifier, -source_string) %>%\n",
    "    distinct() %>%\n",
    "    ungroup() -> out_df\n",
    "\n",
    "  return(out_df)    \n",
    "}\n",
    "\n",
    "nslhd_enctrs %>%\n",
    "  join_icd10_obesity(diagnosis_icd10.rds) %>%\n",
    "  select(Status, Gender, journey_key, obesity_icd10) %>%\n",
    "  distinct() -> nslhd_journeys_obesity_icd10"
   ]
  },
  {
   "cell_type": "code",
   "execution_count": 75,
   "metadata": {},
   "outputs": [
    {
     "name": "stdout",
     "output_type": "stream",
     "text": [
      "Presence of obesity by ICD10 codes"
     ]
    },
    {
     "data": {
      "text/html": [
       "<table>\n",
       "<thead><tr><th scope=col>STEMI</th><th scope=col>Present</th><th scope=col>Absent</th><th scope=col>Total</th><th scope=col>%Missing</th><th scope=col>%Present</th><th scope=col>%Error</th></tr></thead>\n",
       "<tbody>\n",
       "\t<tr><td>Female</td><td> 3    </td><td>23    </td><td> 26   </td><td>0     </td><td>11.5  </td><td>6.3   </td></tr>\n",
       "\t<tr><td>Male  </td><td>16    </td><td>61    </td><td> 77   </td><td>0     </td><td>20.8  </td><td>4.6   </td></tr>\n",
       "\t<tr><td>Total </td><td>19    </td><td>84    </td><td>103   </td><td>0     </td><td>18.4  </td><td>3.8   </td></tr>\n",
       "</tbody>\n",
       "</table>\n"
      ],
      "text/latex": [
       "\\begin{tabular}{r|lllllll}\n",
       " STEMI & Present & Absent & Total & \\%Missing & \\%Present & \\%Error\\\\\n",
       "\\hline\n",
       "\t Female &  3     & 23     &  26    & 0      & 11.5   & 6.3   \\\\\n",
       "\t Male   & 16     & 61     &  77    & 0      & 20.8   & 4.6   \\\\\n",
       "\t Total  & 19     & 84     & 103    & 0      & 18.4   & 3.8   \\\\\n",
       "\\end{tabular}\n"
      ],
      "text/markdown": [
       "\n",
       "| STEMI | Present | Absent | Total | %Missing | %Present | %Error |\n",
       "|---|---|---|---|---|---|---|\n",
       "| Female |  3     | 23     |  26    | 0      | 11.5   | 6.3    |\n",
       "| Male   | 16     | 61     |  77    | 0      | 20.8   | 4.6    |\n",
       "| Total  | 19     | 84     | 103    | 0      | 18.4   | 3.8    |\n",
       "\n"
      ],
      "text/plain": [
       "  STEMI  Present Absent Total %Missing %Present %Error\n",
       "1 Female  3      23      26   0        11.5     6.3   \n",
       "2 Male   16      61      77   0        20.8     4.6   \n",
       "3 Total  19      84     103   0        18.4     3.8   "
      ]
     },
     "metadata": {},
     "output_type": "display_data"
    }
   ],
   "source": [
    "cat(\"Presence of obesity by ICD10 codes\")\n",
    "nslhd_journeys_obesity_icd10 %>%\n",
    "  filter(Status == \"STEMI\") %>%\n",
    "  mutate(obesity = fct_relevel(obesity_icd10, \"Present\")) %>%\n",
    "  count(Gender, obesity) %>%\n",
    "  spread(obesity, n, fill = 0) %>%\n",
    "  bind_rows(summarise_all(., funs(if(is.numeric(.)) sum(.) else \"Total\"))) %>%\n",
    "  mutate(\n",
    "    Total = rowSums(select_if(., is.numeric)),\n",
    "    `%Missing` = 0,\n",
    "    `%Present` = round(Present/(Present + Absent)*100, 1),\n",
    "    `%Error` = round(sqrt(`%Present`*(100-`%Present`) / (Present + Absent)),1)\n",
    "  ) %>%\n",
    "  rename(STEMI = Gender)"
   ]
  },
  {
   "cell_type": "markdown",
   "metadata": {},
   "source": [
    "### 2. BMI records\n",
    "The [risk factors table on confluence](https://ctdshub.atlassian.net/wiki/spaces/HEAL/pages/767492185/Characteristics+and+Risk+Factors+in+the+EMR) mentions that BMI can be found in the `Height and Weight` section. But we will select all the BMI data, regardless of section. (Most of the BMI values come from the `Waterlow Assessment` section, which represents about twice as many values as the Height and Weight section) \n",
    "\n",
    "Since multiple BMI values are returned from different sections, we will reduce the redundancy and take the average BMI per encounter."
   ]
  },
  {
   "cell_type": "code",
   "execution_count": 7,
   "metadata": {},
   "outputs": [],
   "source": [
    "join_forms_bmi <- function(stemi_input, forms_input){\n",
    "# PARAMETERS\n",
    "# stemi_input: A dataframe with JOURNEY_KEY, ENCNTR_KEY\n",
    "# forms_input: A dataframe with ENCNTR_KEY, SECTION_NAME, LABEL\n",
    "# & CHARTED_VALUE\n",
    "# RETURNS a dataframe with added column \"forms_bmi_mean\"  \n",
    "\n",
    "  # Select all the BMI data\n",
    "  forms_input %>%\n",
    "    select(encntr_key, section_name, label, charted_value) %>%\n",
    "    filter(label == \"Body Mass Index\") %>%\n",
    "    mutate(forms_bmi = extract_numeric(charted_value)) %>%\n",
    "    select(-charted_value, -label) %>%\n",
    "    distinct() -> bmi.tb # 25371\n",
    "    \n",
    "  # Calculate BMI per encounter\n",
    "  bmi.tb %>%\n",
    "    select(encntr_key, forms_bmi) %>%\n",
    "    group_by(encntr_key) %>%\n",
    "    summarise(forms_bmi_mean = mean(forms_bmi, na.rm = TRUE)) %>%\n",
    "    filter(!is.na(forms_bmi_mean)) -> bmi.encntr \n",
    "    \n",
    "  # Join and count BMI results\n",
    "  stemi_input %>%\n",
    "    left_join(bmi.encntr, by = \"encntr_key\") -> out_df\n",
    "\n",
    "  return(out_df)\n",
    "}"
   ]
  },
  {
   "cell_type": "code",
   "execution_count": 8,
   "metadata": {},
   "outputs": [
    {
     "data": {
      "text/html": [
       "<table>\n",
       "<thead><tr><th scope=col>Status</th><th scope=col>Gender</th><th scope=col>Healthy</th><th scope=col>Overweight</th><th scope=col>Obese</th><th scope=col>Missing</th><th scope=col>Total</th><th scope=col>%Missing</th><th scope=col>%Obese</th></tr></thead>\n",
       "<tbody>\n",
       "\t<tr><td>STEMI </td><td>Female</td><td> 8    </td><td> 4    </td><td> 1    </td><td>13    </td><td> 26   </td><td>50.0  </td><td> 7.7  </td></tr>\n",
       "\t<tr><td>STEMI </td><td>Male  </td><td>10    </td><td>14    </td><td>17    </td><td>36    </td><td> 77   </td><td>46.8  </td><td>41.5  </td></tr>\n",
       "\t<tr><td>NSTEMI</td><td>Female</td><td>31    </td><td>14    </td><td>12    </td><td>56    </td><td>113   </td><td>49.6  </td><td>21.1  </td></tr>\n",
       "\t<tr><td>NSTEMI</td><td>Male  </td><td>19    </td><td>32    </td><td>16    </td><td>82    </td><td>149   </td><td>55.0  </td><td>23.9  </td></tr>\n",
       "</tbody>\n",
       "</table>\n"
      ],
      "text/latex": [
       "\\begin{tabular}{r|lllllllll}\n",
       " Status & Gender & Healthy & Overweight & Obese & Missing & Total & \\%Missing & \\%Obese\\\\\n",
       "\\hline\n",
       "\t STEMI  & Female &  8     &  4     &  1     & 13     &  26    & 50.0   &  7.7  \\\\\n",
       "\t STEMI  & Male   & 10     & 14     & 17     & 36     &  77    & 46.8   & 41.5  \\\\\n",
       "\t NSTEMI & Female & 31     & 14     & 12     & 56     & 113    & 49.6   & 21.1  \\\\\n",
       "\t NSTEMI & Male   & 19     & 32     & 16     & 82     & 149    & 55.0   & 23.9  \\\\\n",
       "\\end{tabular}\n"
      ],
      "text/markdown": [
       "\n",
       "| Status | Gender | Healthy | Overweight | Obese | Missing | Total | %Missing | %Obese |\n",
       "|---|---|---|---|---|---|---|---|---|\n",
       "| STEMI  | Female |  8     |  4     |  1     | 13     |  26    | 50.0   |  7.7   |\n",
       "| STEMI  | Male   | 10     | 14     | 17     | 36     |  77    | 46.8   | 41.5   |\n",
       "| NSTEMI | Female | 31     | 14     | 12     | 56     | 113    | 49.6   | 21.1   |\n",
       "| NSTEMI | Male   | 19     | 32     | 16     | 82     | 149    | 55.0   | 23.9   |\n",
       "\n"
      ],
      "text/plain": [
       "  Status Gender Healthy Overweight Obese Missing Total %Missing %Obese\n",
       "1 STEMI  Female  8       4          1    13       26   50.0      7.7  \n",
       "2 STEMI  Male   10      14         17    36       77   46.8     41.5  \n",
       "3 NSTEMI Female 31      14         12    56      113   49.6     21.1  \n",
       "4 NSTEMI Male   19      32         16    82      149   55.0     23.9  "
      ]
     },
     "metadata": {},
     "output_type": "display_data"
    }
   ],
   "source": [
    "nslhd_enctrs %>%\n",
    "  join_forms_bmi(form_data.rds) %>%\n",
    "  select(Status, Gender, journey_key, forms_bmi_mean) %>%\n",
    "  distinct() %>% \n",
    "  group_by(Status, Gender, journey_key) %>%\n",
    "  summarise(\n",
    "    max_bmi = max(forms_bmi_mean, na.rm = TRUE),\n",
    "    min_bmi = min(forms_bmi_mean, na.rm = TRUE),\n",
    "    range_bmi = abs(max_bmi - min_bmi),\n",
    "    missing = all(is.na(forms_bmi_mean))\n",
    "    ) %>%\n",
    "  mutate(max_bmi = ifelse(max_bmi > -Inf & max_bmi < Inf, max_bmi, NA)) %>%\n",
    "  ungroup() %>%\n",
    "  select(Status, Gender, max_bmi) %>%\n",
    "  mutate(\n",
    "    bmi_class = case_when(\n",
    "      max_bmi < 25                  ~ \"Healthy\",\n",
    "      max_bmi >= 25 & max_bmi <= 30 ~ \"Overweight\",\n",
    "      max_bmi > 30                  ~ \"Obese\",\n",
    "      is.na(max_bmi)                ~ \"Missing\"\n",
    "      ),\n",
    "    bmi_class = fct_relevel(bmi_class, \"Healthy\", \"Overweight\", \"Obese\"),\n",
    "    ) %>%\n",
    "  count(Status, Gender, bmi_class) %>%\n",
    "  spread(bmi_class, n) %>%\n",
    "  mutate(\n",
    "    Total = Healthy + Overweight + Obese + Missing,\n",
    "    \"%Missing\" = round(Missing/Total*100, 1),\n",
    "    \"%Obese\"  = round(Obese/(Healthy + Overweight + Obese)*100, 1)\n",
    "  )"
   ]
  },
  {
   "cell_type": "markdown",
   "metadata": {},
   "source": [
    "#### Conclusions\n",
    "Male STEMIs have the highest obesity risk. Obesity is not recorded in CONCORDANCE or Vernon et al so we can't compare our results here. The missingness in BMI measurements is **~50 percent**, when all possible sources of BMI values are included. (We can expect this to be substantially reduced if we only include BMI values from the `Height and Weight` section)  \n",
    "\n",
    "*Measurement error* is another concern. When BMI is recorded in multiple sections we sometimes find a range of BMI values are be recorded for a single episode (we have eliminated any range present in a single encounter). In approximately ~4 percent of episodes, the range of BMI values in a single episode of care can be ~$3 \\ kg/m^2$, which is unlikely."
   ]
  },
  {
   "cell_type": "markdown",
   "metadata": {},
   "source": [
    "**To be done**\n",
    "1. Check BMI range against date range\n",
    "2. Collate height and weight values to reduce missingness\n",
    "3. Compare first BMI vs max BMI"
   ]
  },
  {
   "cell_type": "code",
   "execution_count": null,
   "metadata": {},
   "outputs": [],
   "source": []
  }
 ],
 "metadata": {
  "kernelspec": {
   "display_name": "R",
   "language": "R",
   "name": "ir"
  },
  "language_info": {
   "codemirror_mode": "r",
   "file_extension": ".r",
   "mimetype": "text/x-r-source",
   "name": "R",
   "pygments_lexer": "r",
   "version": "3.6.0"
  }
 },
 "nbformat": 4,
 "nbformat_minor": 2
}
