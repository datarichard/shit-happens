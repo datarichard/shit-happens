{
 "cells": [
  {
   "cell_type": "code",
   "execution_count": 1,
   "metadata": {},
   "outputs": [
    {
     "name": "stderr",
     "output_type": "stream",
     "text": [
      "── Attaching packages ─────────────────────────────────────── tidyverse 1.2.1 ──\n",
      "✔ ggplot2 3.0.0     ✔ purrr   0.2.5\n",
      "✔ tibble  1.4.2     ✔ dplyr   0.7.6\n",
      "✔ tidyr   0.8.1     ✔ stringr 1.3.1\n",
      "✔ readr   1.1.1     ✔ forcats 0.3.0\n",
      "── Conflicts ────────────────────────────────────────── tidyverse_conflicts() ──\n",
      "✖ dplyr::filter() masks stats::filter()\n",
      "✖ dplyr::lag()    masks stats::lag()\n",
      "Loading required package: Formula\n",
      "\n",
      "Attaching package: ‘plm’\n",
      "\n",
      "The following objects are masked from ‘package:dplyr’:\n",
      "\n",
      "    between, lag, lead\n",
      "\n"
     ]
    }
   ],
   "source": [
    "library(tidyverse)\n",
    "library(haven)\n",
    "library(plm)"
   ]
  },
  {
   "cell_type": "code",
   "execution_count": 3,
   "metadata": {},
   "outputs": [
    {
     "data": {
      "text/html": [
       "<table>\n",
       "<thead><tr><th scope=col>xwaveid</th><th scope=col>wave</th><th scope=col>lefnw</th><th scope=col>losat</th><th scope=col>y</th></tr></thead>\n",
       "<tbody>\n",
       "\t<tr><td>0100003   </td><td>e         </td><td>pre36     </td><td> 8        </td><td> 0.0000000</td></tr>\n",
       "\t<tr><td>0100003   </td><td>f         </td><td>pre24     </td><td> 8        </td><td> 0.0000000</td></tr>\n",
       "\t<tr><td>0100003   </td><td>g         </td><td>pre12     </td><td> 8        </td><td> 0.0000000</td></tr>\n",
       "\t<tr><td>0100003   </td><td>h         </td><td>post03    </td><td> 7        </td><td>-0.5497564</td></tr>\n",
       "\t<tr><td>0100003   </td><td>i         </td><td>post12    </td><td>10        </td><td> 1.0995127</td></tr>\n",
       "\t<tr><td>0100003   </td><td>j         </td><td>post24    </td><td> 8        </td><td> 0.0000000</td></tr>\n",
       "</tbody>\n",
       "</table>\n"
      ],
      "text/latex": [
       "\\begin{tabular}{r|lllll}\n",
       " xwaveid & wave & lefnw & losat & y\\\\\n",
       "\\hline\n",
       "\t 0100003    & e          & pre36      &  8         &  0.0000000\\\\\n",
       "\t 0100003    & f          & pre24      &  8         &  0.0000000\\\\\n",
       "\t 0100003    & g          & pre12      &  8         &  0.0000000\\\\\n",
       "\t 0100003    & h          & post03     &  7         & -0.5497564\\\\\n",
       "\t 0100003    & i          & post12     & 10         &  1.0995127\\\\\n",
       "\t 0100003    & j          & post24     &  8         &  0.0000000\\\\\n",
       "\\end{tabular}\n"
      ],
      "text/markdown": [
       "\n",
       "xwaveid | wave | lefnw | losat | y | \n",
       "|---|---|---|---|---|---|\n",
       "| 0100003    | e          | pre36      |  8         |  0.0000000 | \n",
       "| 0100003    | f          | pre24      |  8         |  0.0000000 | \n",
       "| 0100003    | g          | pre12      |  8         |  0.0000000 | \n",
       "| 0100003    | h          | post03     |  7         | -0.5497564 | \n",
       "| 0100003    | i          | post12     | 10         |  1.0995127 | \n",
       "| 0100003    | j          | post24     |  8         |  0.0000000 | \n",
       "\n",
       "\n"
      ],
      "text/plain": [
       "  xwaveid wave lefnw  losat y         \n",
       "1 0100003 e    pre36   8     0.0000000\n",
       "2 0100003 f    pre24   8     0.0000000\n",
       "3 0100003 g    pre12   8     0.0000000\n",
       "4 0100003 h    post03  7    -0.5497564\n",
       "5 0100003 i    post12 10     1.0995127\n",
       "6 0100003 j    post24  8     0.0000000"
      ]
     },
     "metadata": {},
     "output_type": "display_data"
    }
   ],
   "source": [
    "timelevels = c('pre36', 'pre24', 'pre12', 'post00', 'post03', 'post06', \n",
    "               'post09', 'post12', 'post24', 'post36')\n",
    "\n",
    "# load data\n",
    "read_dta('raw_losat.dta') %>%\n",
    "  mutate(lefnw = factor(lefnw, labels = timelevels),\n",
    "         wave = as.factor(wave),\n",
    "         slosat = scale(losat)) %>%\n",
    "  group_by(xwaveid) %>%\n",
    "  mutate(m = mean(slosat)) %>% \n",
    "  mutate(y = slosat - m) %>% # and mean correct\n",
    "  select(xwaveid, wave, lefnw, losat, y) %>%\n",
    "  arrange(xwaveid, wave) -> df\n",
    "\n",
    "head(df)"
   ]
  },
  {
   "cell_type": "code",
   "execution_count": 4,
   "metadata": {},
   "outputs": [
    {
     "data": {
      "text/plain": [
       "\n",
       "Call:\n",
       "lm(formula = \"y ~ lefnw + 0\", data = df)\n",
       "\n",
       "Residuals:\n",
       "    Min      1Q  Median      3Q     Max \n",
       "-4.5308 -0.3206  0.0330  0.3545  3.6530 \n",
       "\n",
       "Coefficients:\n",
       "             Estimate Std. Error t value Pr(>|t|)    \n",
       "lefnwpre36   0.149457   0.014041  10.644  < 2e-16 ***\n",
       "lefnwpre24   0.100665   0.012759   7.890 3.16e-15 ***\n",
       "lefnwpre12   0.048692   0.011331   4.297 1.74e-05 ***\n",
       "lefnwpost00 -0.199992   0.016578 -12.063  < 2e-16 ***\n",
       "lefnwpost03 -0.158253   0.018512  -8.548  < 2e-16 ***\n",
       "lefnwpost06 -0.210848   0.021103  -9.991  < 2e-16 ***\n",
       "lefnwpost09 -0.209370   0.017674 -11.846  < 2e-16 ***\n",
       "lefnwpost12 -0.006542   0.009899  -0.661  0.50871    \n",
       "lefnwpost24  0.046315   0.011324   4.090 4.33e-05 ***\n",
       "lefnwpost36  0.045571   0.012689   3.591  0.00033 ***\n",
       "---\n",
       "Signif. codes:  0 ‘***’ 0.001 ‘**’ 0.01 ‘*’ 0.05 ‘.’ 0.1 ‘ ’ 1\n",
       "\n",
       "Residual standard error: 0.6453 on 22983 degrees of freedom\n",
       "Multiple R-squared:  0.02885,\tAdjusted R-squared:  0.02843 \n",
       "F-statistic: 68.28 on 10 and 22983 DF,  p-value: < 2.2e-16\n"
      ]
     },
     "metadata": {},
     "output_type": "display_data"
    }
   ],
   "source": [
    "summary(lm('y ~ lefnw + 0', df))"
   ]
  },
  {
   "cell_type": "code",
   "execution_count": 5,
   "metadata": {},
   "outputs": [
    {
     "data": {
      "text/plain": [
       "Oneway (individual) effect Within Model\n",
       "\n",
       "Call:\n",
       "plm(formula = y ~ lefnw, data = df)\n",
       "\n",
       "Unbalanced Panel: n = 3759, T = 1-15, N = 22993\n",
       "\n",
       "Residuals:\n",
       "     Min.   1st Qu.    Median   3rd Qu.      Max. \n",
       "-4.479512 -0.309438  0.036153  0.359621  3.577247 \n",
       "\n",
       "Coefficients:\n",
       "             Estimate Std. Error  t-value  Pr(>|t|)    \n",
       "lefnwpre24  -0.053426   0.020886  -2.5580   0.01054 *  \n",
       "lefnwpre12  -0.115578   0.020090  -5.7530 8.900e-09 ***\n",
       "lefnwpost00 -0.404723   0.025650 -15.7784 < 2.2e-16 ***\n",
       "lefnwpost03 -0.354326   0.027461 -12.9031 < 2.2e-16 ***\n",
       "lefnwpost06 -0.414383   0.030000 -13.8128 < 2.2e-16 ***\n",
       "lefnwpost09 -0.425516   0.026912 -15.8115 < 2.2e-16 ***\n",
       "lefnwpost12 -0.188623   0.019595  -9.6262 < 2.2e-16 ***\n",
       "lefnwpost24 -0.129795   0.020572  -6.3092 2.866e-10 ***\n",
       "lefnwpost36 -0.127540   0.021626  -5.8976 3.750e-09 ***\n",
       "---\n",
       "Signif. codes:  0 ‘***’ 0.001 ‘**’ 0.01 ‘*’ 0.05 ‘.’ 0.1 ‘ ’ 1\n",
       "\n",
       "Total Sum of Squares:    9854.2\n",
       "Residual Sum of Squares: 9524.4\n",
       "R-Squared:      0.033477\n",
       "Adj. R-Squared: -0.15591\n",
       "F-statistic: 73.9875 on 9 and 19225 DF, p-value: < 2.22e-16"
      ]
     },
     "metadata": {},
     "output_type": "display_data"
    }
   ],
   "source": [
    "summary(plm(y ~ lefnw, df))"
   ]
  },
  {
   "cell_type": "code",
   "execution_count": 10,
   "metadata": {},
   "outputs": [
    {
     "data": {
      "text/plain": [
       "Oneway (individual) effect Within Model\n",
       "\n",
       "Call:\n",
       "plm(formula = y ~ lefnw, data = df, index = c(\"xwaveid\"), method = \"within\")\n",
       "\n",
       "Unbalanced Panel: n = 3759, T = 1-15, N = 22993\n",
       "\n",
       "Residuals:\n",
       "     Min.   1st Qu.    Median   3rd Qu.      Max. \n",
       "-4.479512 -0.309438  0.036153  0.359621  3.577247 \n",
       "\n",
       "Coefficients:\n",
       "             Estimate Std. Error  t-value  Pr(>|t|)    \n",
       "lefnwpre24  -0.053426   0.020886  -2.5580   0.01054 *  \n",
       "lefnwpre12  -0.115578   0.020090  -5.7530 8.900e-09 ***\n",
       "lefnwpost00 -0.404723   0.025650 -15.7784 < 2.2e-16 ***\n",
       "lefnwpost03 -0.354326   0.027461 -12.9031 < 2.2e-16 ***\n",
       "lefnwpost06 -0.414383   0.030000 -13.8128 < 2.2e-16 ***\n",
       "lefnwpost09 -0.425516   0.026912 -15.8115 < 2.2e-16 ***\n",
       "lefnwpost12 -0.188623   0.019595  -9.6262 < 2.2e-16 ***\n",
       "lefnwpost24 -0.129795   0.020572  -6.3092 2.866e-10 ***\n",
       "lefnwpost36 -0.127540   0.021626  -5.8976 3.750e-09 ***\n",
       "---\n",
       "Signif. codes:  0 ‘***’ 0.001 ‘**’ 0.01 ‘*’ 0.05 ‘.’ 0.1 ‘ ’ 1\n",
       "\n",
       "Total Sum of Squares:    9854.2\n",
       "Residual Sum of Squares: 9524.4\n",
       "R-Squared:      0.033477\n",
       "Adj. R-Squared: -0.15591\n",
       "F-statistic: 73.9875 on 9 and 19225 DF, p-value: < 2.22e-16"
      ]
     },
     "metadata": {},
     "output_type": "display_data"
    }
   ],
   "source": [
    "summary(plm(y ~ lefnw, df, index = c('xwaveid'), method = \"within\"))"
   ]
  },
  {
   "cell_type": "code",
   "execution_count": 17,
   "metadata": {},
   "outputs": [
    {
     "data": {
      "text/plain": [
       "\n",
       "t test of coefficients:\n",
       "\n",
       "             Estimate Std. Error  t value  Pr(>|t|)    \n",
       "lefnwpre24  -0.053426   0.017676  -3.0226   0.00251 ** \n",
       "lefnwpre12  -0.115578   0.018834  -6.1367 8.591e-10 ***\n",
       "lefnwpost00 -0.404723   0.028404 -14.2490 < 2.2e-16 ***\n",
       "lefnwpost03 -0.354326   0.028365 -12.4917 < 2.2e-16 ***\n",
       "lefnwpost06 -0.414383   0.033469 -12.3813 < 2.2e-16 ***\n",
       "lefnwpost09 -0.425516   0.031579 -13.4745 < 2.2e-16 ***\n",
       "lefnwpost12 -0.188623   0.019615  -9.6164 < 2.2e-16 ***\n",
       "lefnwpost24 -0.129795   0.020057  -6.4713 9.952e-11 ***\n",
       "lefnwpost36 -0.127540   0.020600  -6.1913 6.087e-10 ***\n",
       "---\n",
       "Signif. codes:  0 ‘***’ 0.001 ‘**’ 0.01 ‘*’ 0.05 ‘.’ 0.1 ‘ ’ 1\n"
      ]
     },
     "metadata": {},
     "output_type": "display_data"
    }
   ],
   "source": [
    "library(lmtest)\n",
    "coeftest(fe.lefnw, vcov. = vcovHC(fe.lefnw, type = \"HC1\"))"
   ]
  },
  {
   "cell_type": "code",
   "execution_count": 18,
   "metadata": {},
   "outputs": [
    {
     "data": {
      "text/plain": [
       "Oneway (individual) effect Within Model\n",
       "\n",
       "Call:\n",
       "plm(formula = y ~ lefnw + wave, data = df)\n",
       "\n",
       "Unbalanced Panel: n = 3759, T = 1-15, N = 22993\n",
       "\n",
       "Residuals:\n",
       "     Min.   1st Qu.    Median   3rd Qu.      Max. \n",
       "-4.489037 -0.308696  0.033548  0.358634  3.639139 \n",
       "\n",
       "Coefficients:\n",
       "              Estimate Std. Error  t-value  Pr(>|t|)    \n",
       "lefnwpre24  -0.0435807  0.0210467  -2.0707 0.0384035 *  \n",
       "lefnwpre12  -0.0945456  0.0206766  -4.5726 4.847e-06 ***\n",
       "lefnwpost00 -0.3738247  0.0267350 -13.9826 < 2.2e-16 ***\n",
       "lefnwpost03 -0.3226452  0.0284688 -11.3333 < 2.2e-16 ***\n",
       "lefnwpost06 -0.3829912  0.0309309 -12.3821 < 2.2e-16 ***\n",
       "lefnwpost09 -0.3933192  0.0280679 -14.0131 < 2.2e-16 ***\n",
       "lefnwpost12 -0.1494192  0.0221014  -6.7606 1.414e-11 ***\n",
       "lefnwpost24 -0.0763676  0.0240225  -3.1790 0.0014802 ** \n",
       "lefnwpost36 -0.0629071  0.0260684  -2.4132 0.0158242 *  \n",
       "wavec        0.1027875  0.0311952   3.2950 0.0009861 ***\n",
       "waved        0.0524557  0.0311687   1.6830 0.0923987 .  \n",
       "wavee        0.0036736  0.0307455   0.1195 0.9048935    \n",
       "wavef       -0.0070951  0.0315180  -0.2251 0.8218951    \n",
       "waveg       -0.0449896  0.0322779  -1.3938 0.1633876    \n",
       "waveh       -0.0128446  0.0330971  -0.3881 0.6979557    \n",
       "wavei       -0.0287307  0.0338722  -0.8482 0.3963330    \n",
       "wavej       -0.0607862  0.0345004  -1.7619 0.0781025 .  \n",
       "wavek       -0.0331051  0.0343868  -0.9627 0.3356961    \n",
       "wavel       -0.0534288  0.0352721  -1.5148 0.1298497    \n",
       "wavem       -0.0726721  0.0363952  -1.9967 0.0458666 *  \n",
       "waven       -0.0781960  0.0380582  -2.0546 0.0399269 *  \n",
       "waveo       -0.1105141  0.0401258  -2.7542 0.0058893 ** \n",
       "wavep       -0.0801529  0.0425883  -1.8820 0.0598456 .  \n",
       "---\n",
       "Signif. codes:  0 ‘***’ 0.001 ‘**’ 0.01 ‘*’ 0.05 ‘.’ 0.1 ‘ ’ 1\n",
       "\n",
       "Total Sum of Squares:    9854.2\n",
       "Residual Sum of Squares: 9501.8\n",
       "R-Squared:      0.035765\n",
       "Adj. R-Squared: -0.15401\n",
       "F-statistic: 30.9809 on 23 and 19211 DF, p-value: < 2.22e-16"
      ]
     },
     "metadata": {},
     "output_type": "display_data"
    }
   ],
   "source": [
    "summary(plm(y ~ lefnw + wave, df))"
   ]
  },
  {
   "cell_type": "markdown",
   "metadata": {},
   "source": [
    "This gives exactly the same estimates for lefnw timepoints as Stata call: **xtreg slosat i.lefnw year\\*, cluster(xwaveid) fe**  \n",
    "\n",
    "Note the wave estimates are different because plm dropped **wave b** instead of **wave o** like Stata. And the std errors are different because clustered standard errors are not default in plm "
   ]
  },
  {
   "cell_type": "code",
   "execution_count": 19,
   "metadata": {},
   "outputs": [
    {
     "data": {
      "text/plain": [
       "\n",
       "t test of coefficients:\n",
       "\n",
       "              Estimate Std. Error  t value  Pr(>|t|)    \n",
       "lefnwpre24  -0.0435807  0.0181992  -2.3946  0.016646 *  \n",
       "lefnwpre12  -0.0945456  0.0202176  -4.6764 2.939e-06 ***\n",
       "lefnwpost00 -0.3738247  0.0306036 -12.2151 < 2.2e-16 ***\n",
       "lefnwpost03 -0.3226452  0.0301866 -10.6884 < 2.2e-16 ***\n",
       "lefnwpost06 -0.3829912  0.0352270 -10.8721 < 2.2e-16 ***\n",
       "lefnwpost09 -0.3933192  0.0330130 -11.9141 < 2.2e-16 ***\n",
       "lefnwpost12 -0.1494192  0.0244956  -6.0998 1.082e-09 ***\n",
       "lefnwpost24 -0.0763676  0.0265292  -2.8786  0.003998 ** \n",
       "lefnwpost36 -0.0629071  0.0297327  -2.1158  0.034378 *  \n",
       "wavec        0.1027875  0.0332281   3.0934  0.001982 ** \n",
       "waved        0.0524557  0.0343284   1.5281  0.126516    \n",
       "wavee        0.0036736  0.0344934   0.1065  0.915186    \n",
       "wavef       -0.0070951  0.0362456  -0.1957  0.844808    \n",
       "waveg       -0.0449896  0.0375096  -1.1994  0.230381    \n",
       "waveh       -0.0128446  0.0386359  -0.3325  0.739552    \n",
       "wavei       -0.0287307  0.0406027  -0.7076  0.479199    \n",
       "wavej       -0.0607862  0.0439311  -1.3837  0.166475    \n",
       "wavek       -0.0331051  0.0444551  -0.7447  0.456470    \n",
       "wavel       -0.0534288  0.0465137  -1.1487  0.250707    \n",
       "wavem       -0.0726721  0.0492709  -1.4749  0.140242    \n",
       "waven       -0.0781960  0.0524525  -1.4908  0.136031    \n",
       "waveo       -0.1105141  0.0554358  -1.9936  0.046215 *  \n",
       "wavep       -0.0801529  0.0586945  -1.3656  0.172082    \n",
       "---\n",
       "Signif. codes:  0 ‘***’ 0.001 ‘**’ 0.01 ‘*’ 0.05 ‘.’ 0.1 ‘ ’ 1\n"
      ]
     },
     "metadata": {},
     "output_type": "display_data"
    }
   ],
   "source": [
    "fe.wave <- plm(y ~ lefnw + wave, df)\n",
    "coeftest(fe.wave, vcov. = vcovHC(fe.wave, type = \"HC1\"))"
   ]
  },
  {
   "cell_type": "markdown",
   "metadata": {
    "collapsed": true
   },
   "source": [
    "Now the std.errors are similar to Stata clustered errors (to 3 decimal places). Equivalent std.errors are possible though not demonstrated here."
   ]
  },
  {
   "cell_type": "code",
   "execution_count": 17,
   "metadata": {},
   "outputs": [
    {
     "data": {
      "text/plain": [
       "Oneway (individual) effect Within Model\n",
       "\n",
       "Call:\n",
       "plm(formula = slosat ~ lefnw + wave, data = df, model = \"within\", \n",
       "    index = c(\"xwaveid\"))\n",
       "\n",
       "Unbalanced Panel: n = 3759, T = 1-15, N = 22993\n",
       "\n",
       "Residuals:\n",
       "     Min.   1st Qu.    Median   3rd Qu.      Max. \n",
       "-4.489037 -0.308696  0.033548  0.358634  3.639139 \n",
       "\n",
       "Coefficients:\n",
       "              Estimate Std. Error  t-value  Pr(>|t|)    \n",
       "lefnwpre24  -0.0435807  0.0210467  -2.0707 0.0384035 *  \n",
       "lefnwpre12  -0.0945456  0.0206766  -4.5726 4.847e-06 ***\n",
       "lefnwpost00 -0.3738247  0.0267350 -13.9826 < 2.2e-16 ***\n",
       "lefnwpost03 -0.3226452  0.0284688 -11.3333 < 2.2e-16 ***\n",
       "lefnwpost06 -0.3829912  0.0309309 -12.3821 < 2.2e-16 ***\n",
       "lefnwpost09 -0.3933192  0.0280679 -14.0131 < 2.2e-16 ***\n",
       "lefnwpost12 -0.1494192  0.0221014  -6.7606 1.414e-11 ***\n",
       "lefnwpost24 -0.0763676  0.0240225  -3.1790 0.0014802 ** \n",
       "lefnwpost36 -0.0629071  0.0260684  -2.4132 0.0158242 *  \n",
       "wavec        0.1027875  0.0311952   3.2950 0.0009861 ***\n",
       "waved        0.0524557  0.0311687   1.6830 0.0923987 .  \n",
       "wavee        0.0036736  0.0307455   0.1195 0.9048935    \n",
       "wavef       -0.0070951  0.0315180  -0.2251 0.8218951    \n",
       "waveg       -0.0449896  0.0322779  -1.3938 0.1633876    \n",
       "waveh       -0.0128446  0.0330971  -0.3881 0.6979557    \n",
       "wavei       -0.0287307  0.0338722  -0.8482 0.3963330    \n",
       "wavej       -0.0607862  0.0345004  -1.7619 0.0781025 .  \n",
       "wavek       -0.0331051  0.0343868  -0.9627 0.3356961    \n",
       "wavel       -0.0534288  0.0352721  -1.5148 0.1298497    \n",
       "wavem       -0.0726721  0.0363952  -1.9967 0.0458666 *  \n",
       "waven       -0.0781960  0.0380582  -2.0546 0.0399269 *  \n",
       "waveo       -0.1105141  0.0401258  -2.7542 0.0058893 ** \n",
       "wavep       -0.0801529  0.0425883  -1.8820 0.0598456 .  \n",
       "---\n",
       "Signif. codes:  0 ‘***’ 0.001 ‘**’ 0.01 ‘*’ 0.05 ‘.’ 0.1 ‘ ’ 1\n",
       "\n",
       "Total Sum of Squares:    9854.2\n",
       "Residual Sum of Squares: 9501.8\n",
       "R-Squared:      0.035765\n",
       "Adj. R-Squared: -0.15401\n",
       "F-statistic: 30.9809 on 23 and 19211 DF, p-value: < 2.22e-16"
      ]
     },
     "metadata": {},
     "output_type": "display_data"
    }
   ],
   "source": [
    "df$slosat <- scale(df$losat)\n",
    "summary(plm(slosat ~ lefnw + wave, df, index = c('xwaveid'), model = \"within\"))"
   ]
  },
  {
   "cell_type": "markdown",
   "metadata": {},
   "source": [
    "Note that using the (scaled) outcome scores gives the same result as manually mean correcting the outcome score, so plm must handle the mean correction itself."
   ]
  },
  {
   "cell_type": "code",
   "execution_count": null,
   "metadata": {
    "collapsed": true
   },
   "outputs": [],
   "source": []
  }
 ],
 "metadata": {
  "kernelspec": {
   "display_name": "R",
   "language": "R",
   "name": "ir"
  },
  "language_info": {
   "codemirror_mode": "r",
   "file_extension": ".r",
   "mimetype": "text/x-r-source",
   "name": "R",
   "pygments_lexer": "r",
   "version": "3.5.1"
  }
 },
 "nbformat": 4,
 "nbformat_minor": 2
}
